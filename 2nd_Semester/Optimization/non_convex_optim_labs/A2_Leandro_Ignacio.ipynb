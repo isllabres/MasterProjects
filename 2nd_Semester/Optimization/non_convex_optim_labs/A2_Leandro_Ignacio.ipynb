{
 "cells": [
  {
   "cell_type": "markdown",
   "metadata": {},
   "source": [
    "## Optimization  \n",
    "\n",
    "# Stochastic Optimization"
   ]
  },
  {
   "cell_type": "markdown",
   "metadata": {},
   "source": [
    "    Authors: Jesús Cid-Sueiro\n",
    "    Version: 1.0, Apr. 2020."
   ]
  },
  {
   "cell_type": "markdown",
   "metadata": {},
   "source": [
    "### Write your data here:\n",
    "\n",
    "#### Name and NIA:  Leandro Hidalgo - 100391000\n",
    "#### Name and NIA: Ignacio Serrano - 100418944"
   ]
  },
  {
   "cell_type": "markdown",
   "metadata": {},
   "source": [
    "## Exercise: a comparative analysis of stochastic optimization algorithms\n",
    "\n",
    "The goal of this exercise is to implement and test several stochastic optimization algorithms for the minimization of a given function. Gradient descent and Newton's method will be explored.\n",
    "\n",
    " 1. Stochastic gradien descent (SGD)\n",
    " 2. Minibatch-SGD\n",
    " 3. Momentum\n",
    " 4. Adagrad\n",
    " 5. RMSprop\n",
    " 6. Adadelta\n",
    " 7. Adam or Yogi.\n",
    "\n",
    "You can find an excellent description of these algorithms in **chapter 11** of\n",
    "\n",
    " - Zhang, A., Lipton, Z. C., Li, M., & Smola, A. J. (2019). [Dive into Deep Learning](http://d2l.ai/chapter_optimization/index.htm).\n",
    "\n",
    "There you can find the updating equations of the algorithms, as well as useful fragments of python code for an implementation *from scratch*.\n",
    "\n",
    "For this lab session you are not allowed to use available implementations of the algorithms. You can take code from the reference above if needed, but your code cannot call external libraries to carry out the optimization steps.\n",
    "\n",
    "You can use external libraries to carry out other parts of the process, though, if needed.\n",
    "\n",
    "You are requested to carry out a comparative analysis of these algorithms in a particular data analysis problem. To do so, you will need to define your case study."
   ]
  },
  {
   "cell_type": "code",
   "execution_count": 1,
   "metadata": {},
   "outputs": [],
   "source": [
    "import numpy as np\n",
    "import matplotlib.pyplot as plt\n",
    "from sympy.utilities.lambdify import lambdify\n",
    "from sympy import *\n",
    "from sympy import Identity\n",
    "import math\n",
    "import warnings\n",
    "warnings.filterwarnings('ignore')"
   ]
  },
  {
   "cell_type": "markdown",
   "metadata": {},
   "source": [
    "### 1. Case study\n",
    "\n",
    "Select your case study, by specifying a dataset and an optimization problem defined over this data.\n",
    "\n",
    "We propose here one **default proposal**. Solving the lab exercise with the default proposal scores up to 8 out of 10 points. Choosing a different study (dataset and optimization problem), scores up to 2 more extra points.\n",
    "\n",
    "#### Dataset proposal: \n",
    "\n",
    "The [Breast Cancer Dataset](https://archive.ics.uci.edu/ml/datasets/Breast+Cancer+Wisconsin+(Diagnostic)) from the UCI machine learning repository, which is also available in the `sklearn` library:"
   ]
  },
  {
   "cell_type": "code",
   "execution_count": 2,
   "metadata": {},
   "outputs": [
    {
     "name": "stdout",
     "output_type": "stream",
     "text": [
      "-- 569 samples with dimension 30\n",
      "-- Y[0:10] = [0 0 0 0 0 0 0 0 0 0 0 0 0 0 0 0 0 0 0 1 1 1 0 0 0 0 0 0 0 0]\n"
     ]
    }
   ],
   "source": [
    "from sklearn.datasets import load_breast_cancer\n",
    "X_dat, Y_dat = load_breast_cancer(return_X_y=True)\n",
    "print(f\"-- {X_dat.shape[0]} samples with dimension {X_dat.shape[1]}\")\n",
    "print(f\"-- Y[0:10] = {Y_dat[:30]}\")"
   ]
  },
  {
   "cell_type": "markdown",
   "metadata": {},
   "source": [
    "**Data Standardization"
   ]
  },
  {
   "cell_type": "code",
   "execution_count": 3,
   "metadata": {},
   "outputs": [],
   "source": [
    "from sklearn.preprocessing import StandardScaler\n",
    "\n",
    "X_dat = StandardScaler().fit_transform(X_dat)"
   ]
  },
  {
   "cell_type": "code",
   "execution_count": 4,
   "metadata": {},
   "outputs": [],
   "source": [
    "# Intercept = np.ones((X_dat.shape[0],1))\n",
    "# X_dat = np.concatenate((Intercept, X_dat),axis = 1) # Adding bias term\n",
    "data = np.concatenate((X_dat, Y_dat[:, np.newaxis]),axis = 1)# [bias,features,class]"
   ]
  },
  {
   "cell_type": "markdown",
   "metadata": {},
   "source": [
    "#### Optimization problem:\n",
    "\n",
    "Fitting a logistic regression model by maximum likelihood. The objective function can thus be expressed as the non-negative likelihood function given by\n",
    "\\begin{align}\n",
    "\\text{f}({\\bf w}) \n",
    "    &= \\sum_{k=0}^{K-1} \\text{f}_0({\\bf w}, {\\bf x}_k, y_k) \n",
    "    \\end{align}\n",
    "where\n",
    "\\begin{align}\n",
    "\\text{f}_0({\\bf w}, {\\bf x}, {\\bf y}) \n",
    "    &= \\log\\left[1+\\exp\\left(-(2y-1){\\bf w}^\\intercal {\\bf x}\\right)\\right]\n",
    "\\end{align}\n",
    "\n",
    "The gradient descent rule for this problem is well known:\n",
    "\\begin{align}\n",
    "{\\bf w}_{n+1} &= {\\bf w}_n \n",
    "    + \\rho_n {\\bf X}^\\top \\left({\\bf y}-\\hat{\\bf p}_n\\right)\n",
    "\\end{align}\n",
    "where\n",
    "\\begin{align}\n",
    "{\\bf y} &= [y_0,\\ldots,y_{K-1}]^\\top \\\\\n",
    "\\hat{\\bf p}_n &= [g({\\bf w}_n^\\top {\\bf z}_0), \\ldots, g({\\bf w}_n^\\top {\\bf z}_{K-1})]^\\top\n",
    "\\end{align}\n",
    "and $g$ is the logistic function\n",
    "\\begin{align}\n",
    "g(t) = \\frac{1}{1+e^{-t}}\n",
    "\\end{align}\n",
    "\n",
    "#### Recommendations\n",
    "\n",
    "Solve the whole lab exercise using the default case study. After date, and depending on your time availability, you can afford the application to another case study. \n",
    "\n",
    "If your code is modular enough, changing the case study should imply modifying the methods computing the objective function and the stochastic gradient.\n",
    "\n",
    "- **Changing the dataset**: do not select very large datasets. You can simplfy public datasets by resampling or selecting features to make the problem smaller.\n",
    "\n",
    "- **Selecting the objective function**: logistic regression is a well-behaved convex optimization problem. Other optimization problems, specially if they are not convex, may show more differences between algorithms, so they could be more interesting to play with. The selection, in any case, is free.\n",
    "\n",
    "Take into account that the goal of this notebook is to analyze de behavior of the algorithms as optimizers of specific objective functions. This is not a machine learning exercise: **do not split the data into training and test sets**. You do not need to evaluate generalization capabilities of the model. Only need a training set is required, and the performance will be evaluated over the same training set."
   ]
  },
  {
   "cell_type": "markdown",
   "metadata": {},
   "source": [
    "### 2: The function and its derivatives.\n",
    "\n",
    "Define separate methods to compute the function and the stochastic gradient:\n",
    "\n",
    "* Method **`f`**: given ${\\bf w}$, it returns the value of function $f({\\bf w})$.\n",
    "* Method **`df0k`**: given ${\\bf w}$ and sample $({\\bf x}, y)$, it returns the gradient of $f_0$ at (${\\bf w}, {\\bf x}, y)$\n",
    "\n",
    "Recommendation: since you have the main equations for logistic regression in this notebook, you can start defining metods for the default case. Once you have completed the code for the default case, you can go back to this section, and replace these methods by the ones requiere for your case study."
   ]
  },
  {
   "cell_type": "code",
   "execution_count": 5,
   "metadata": {},
   "outputs": [],
   "source": [
    "N = X_dat.shape[1]\n",
    "K = len(Y_dat)\n",
    "\n",
    "# y, w, x = symbols('y w x', real=True)\n",
    "# var = Matrix([y,w,x]) # Jacobian\n",
    "\n",
    "Y = MatrixSymbol('Y',1,1)\n",
    "X = MatrixSymbol('X',N,1)\n",
    "W = MatrixSymbol('W',N,1)\n",
    "\n",
    "# #Function\n",
    "f_0 = Matrix([log(1 + exp(-1*(2*Y-1*Identity(1))*W.T*X))]) # for fucntion\n",
    "# f_1 = Matrix([log(1 + exp(-1*(2*y-1)*MatMul(w,x)))])  # for derivative\n",
    "# # f =  sum(f_0)\n",
    "\n",
    "# Funcion f\n",
    "# <SOL>\n",
    "\n",
    "f_0 = lambdify([Y,W,X], f_0)\n",
    "\n",
    "def f(w):\n",
    "    f_w = 0\n",
    "    for i in range(K):\n",
    "        x_dat = data[i,:-1].reshape(N,1)\n",
    "        y_dat = data[i,-1].reshape(1,1)\n",
    "        f_w = np.squeeze(f_0(y_dat,w,x_dat))\n",
    "    return f_w\n",
    "        \n",
    "# </SOL>\n",
    "\n",
    "# First derivative\n",
    "# <SOL>\n",
    "# df0 = f_1.diff(w) # We used symbolic to compute the gradient expression\n",
    "\n",
    "def df0k(ws,xs,ys):\n",
    "    return (xs*(1-2*ys)*np.exp(ws.T*xs*(1-2*ys)))/(np.exp(ws.T*xs*(1-2*ys))+1)\n",
    "# </SOL>\n",
    "\n",
    "# # Second derivative\n",
    "# # <SOL>\n",
    "# d2f = lambdify(w, d2f)\n",
    "# </SOL>"
   ]
  },
  {
   "cell_type": "markdown",
   "metadata": {},
   "source": [
    "### 3: The algorithms\n",
    "\n",
    "Implement a method computing a single iterationn of each optimization algorithm.\n",
    "\n",
    "The input and outputs for each method will depend on the algorith. The input should contain the current model parameters or state vectors, and the current data input (batch of inputs, in the minibatch case). Send method `df0k` as parameter too. This way, you can solve the lab exercise using the default case study, and defer the changes of dataset and optimization function to the end."
   ]
  },
  {
   "cell_type": "code",
   "execution_count": 6,
   "metadata": {},
   "outputs": [],
   "source": [
    "def logistic(t):\n",
    "    return 1/(1 + np.exp(-t))"
   ]
  },
  {
   "cell_type": "code",
   "execution_count": 7,
   "metadata": {},
   "outputs": [],
   "source": [
    "def sgd_LR(params,sample,lr):\n",
    "    \n",
    "    for i in range(len(params)):\n",
    "        \n",
    "        params[i] = params[i] + (lr * (sample[-1] - logistic(params.T@sample[:-1]))*sample[i])\n",
    "        \n",
    "    return params"
   ]
  },
  {
   "cell_type": "code",
   "execution_count": 8,
   "metadata": {},
   "outputs": [],
   "source": [
    "def adadelta(params, sample, states, deltas, lr, df):\n",
    "    eps= 1e-5\n",
    "    \n",
    "    for i,p in enumerate(params):\n",
    "        grad = df(p,sample[i],sample[-1])\n",
    "        \n",
    "        states[i] = lr * states[i] + (1. - lr) * grad**2\n",
    "        cur_delta = np.sqrt(deltas[i] + eps) / np.sqrt(states[i] + eps) * grad\n",
    "        \n",
    "        deltas[i] = lr * deltas[i] + (1. - lr) * cur_delta**2\n",
    "        \n",
    "        params[i] = p - cur_delta\n",
    "        \n",
    "    return params, states, deltas"
   ]
  },
  {
   "cell_type": "code",
   "execution_count": 9,
   "metadata": {},
   "outputs": [],
   "source": [
    "def adam(params, sample, lr, velocity, states, t, df):\n",
    "    \n",
    "    beta1 = 0.9\n",
    "    beta2 = 0.999\n",
    "    eps_stable = 1e-6\n",
    "    \n",
    "    for i, p in enumerate(params):\n",
    "        \n",
    "        grad = df(p,sample[i],sample[-1])\n",
    "        \n",
    "        velocity[i] = beta1 * velocity[i] + (1 - beta1) * grad\n",
    "        states[i] = states[i] + (1 - beta2) * np.sign(grad**2-states[i])*grad**2\n",
    "        \n",
    "        v_bias_corr = velocity[i] / (1 - beta1 ** t)\n",
    "        s_bias_corr = states[i] / (1 - beta2 ** t)\n",
    "        \n",
    "        div = lr * v_bias_corr / (np.sqrt(s_bias_corr) + eps_stable)\n",
    "        \n",
    "        params[i] = p - div\n",
    "        \n",
    "    t += 1\n",
    "    \n",
    "    return params, t, states, velocity"
   ]
  },
  {
   "cell_type": "code",
   "execution_count": 10,
   "metadata": {},
   "outputs": [],
   "source": [
    "def momentum(params, sample, lr, velocity, df):\n",
    "    beta = 0.9\n",
    "  \n",
    "    for i, (p, v) in enumerate(zip(params, velocity)):\n",
    "            \n",
    "        grad = df(p,sample[i],sample[-1])\n",
    "        velocity[i] = beta * v + lr * grad\n",
    "        params[i] -= velocity[i]\n",
    "\n",
    "    return params, velocity"
   ]
  },
  {
   "cell_type": "code",
   "execution_count": 11,
   "metadata": {},
   "outputs": [],
   "source": [
    "def adagrad(params, sample, lr, states, df):\n",
    "    \n",
    "    eps = 1e-6\n",
    "    \n",
    "    for i, (p, s) in enumerate(zip(params, states)):\n",
    "         \n",
    "        grad = df(p,sample[i],sample[-1])\n",
    "        states[i] += np.square(grad) \n",
    "        params[i] -= lr * grad / np.sqrt(s + eps)\n",
    "    \n",
    "    return params, states"
   ]
  },
  {
   "cell_type": "code",
   "execution_count": 12,
   "metadata": {},
   "outputs": [],
   "source": [
    "def rmsprop(params, sample, lr, states, df):\n",
    "  \n",
    "    # <SOL>\n",
    "    eps=1e-6\n",
    "    gamma = 0.2\n",
    "    \n",
    "    for i, (p, s) in enumerate(zip(params, states)):\n",
    "         \n",
    "        grad = df(p,sample[i],sample[-1])\n",
    "        states[i] = gamma*s + (1-gamma)*grad**2\n",
    "        params[i] = p - lr / sqrt(s + eps) * grad\n",
    "\n",
    "    return params, states"
   ]
  },
  {
   "cell_type": "markdown",
   "metadata": {},
   "source": [
    "**-------------------------------------------------------------------------------------------------------------------**"
   ]
  },
  {
   "cell_type": "markdown",
   "metadata": {},
   "source": [
    "### 4: The comparative analysis.\n",
    "\n",
    "Try to make a comparative analysis of the behaviour of these algorithms in your case study. To do so, make two kind of plots:\n",
    "\n",
    " 1. Algorithm performance after a fixed number of steps, as a function of the free parameters of each algorithm.\n",
    " 2. Convergence of the algorithm with time.\n",
    "\n",
    "For the second type of plots, you will have to face the problem of selecting the value of the learning step. Try to make a fair choice that does not bias the result in favor of a specific algorithm. One option is, for instance, to take the best values according to the first type of plots.\n"
   ]
  },
  {
   "cell_type": "markdown",
   "metadata": {},
   "source": [
    "#### 1. Algorithm performance after a fixed number of steps, as a function of the free parameters of each algorithm.or of a specific algorithm"
   ]
  },
  {
   "cell_type": "code",
   "execution_count": 13,
   "metadata": {},
   "outputs": [],
   "source": [
    "from sklearn.metrics import accuracy_score"
   ]
  },
  {
   "cell_type": "code",
   "execution_count": 14,
   "metadata": {},
   "outputs": [],
   "source": [
    "# Make a prediction with coefficients\n",
    "def predict(row, coefficients):\n",
    "    yhat = 0\n",
    "    for i in range(len(row)):\n",
    "        yhat += coefficients[i] * row[i]\n",
    "    return 1/(1 + np.exp(-yhat))"
   ]
  },
  {
   "cell_type": "code",
   "execution_count": 15,
   "metadata": {},
   "outputs": [],
   "source": [
    "def square_loss(yhat, y):\n",
    "    return (yhat - y.reshape(yhat.shape)) ** 2 / 2"
   ]
  },
  {
   "cell_type": "code",
   "execution_count": 16,
   "metadata": {},
   "outputs": [],
   "source": [
    "# Parameters initialization\n",
    "num_epochs = 25\n",
    "params_init =  np.zeros((30,1))\n",
    "\n",
    "t_val = 1\n",
    "lr = 0.0001\n",
    "\n",
    "s = np.zeros((len(params_init),1))\n",
    "v = np.zeros((len(params_init),1))\n",
    "d = np.zeros((len(params_init),1))"
   ]
  },
  {
   "cell_type": "code",
   "execution_count": 17,
   "metadata": {},
   "outputs": [],
   "source": [
    "params_sgd = np.random.uniform(-1,1,size =(30,1))\n",
    "params_adadelta = np.random.uniform(-1,1,size =(30,1))\n",
    "params_adam = np.random.uniform(-1,1,size =(30,1))\n",
    "params_momentum = np.random.uniform(-1,1,size =(30,1))\n",
    "params_adagrad = np.random.uniform(-1,1,size =(30,1))\n",
    "params_rms = np.random.uniform(-1,1,size =(30,1))\n",
    "\n",
    "s_adadelta = s\n",
    "s_adam = s\n",
    "s_adagrad = s\n",
    "s_rmsprop = s\n",
    "\n",
    "v_adam = v\n",
    "v_momentum = v\n",
    "\n",
    "d_adadelta = d\n",
    "\n",
    "\n",
    "sum_error_sgd = []\n",
    "sum_error_adadelta = []\n",
    "sum_error_adam = []\n",
    "sum_error_momentum = []\n",
    "sum_error_adagrad = []\n",
    "sum_error_rms = []\n",
    "\n",
    "acc_sgd = []\n",
    "acc_adadelta = []\n",
    "acc_adam = []\n",
    "acc_momentum = []\n",
    "acc_adagrad = []\n",
    "acc_rms = []"
   ]
  },
  {
   "cell_type": "code",
   "execution_count": 18,
   "metadata": {
    "scrolled": false
   },
   "outputs": [
    {
     "name": "stdout",
     "output_type": "stream",
     "text": [
      "Epoch  0\n",
      "Epoch  1\n",
      "Epoch  2\n",
      "Epoch  3\n",
      "Epoch  4\n",
      "Epoch  5\n",
      "Epoch  6\n",
      "Epoch  7\n",
      "Epoch  8\n",
      "Epoch  9\n",
      "Epoch  10\n",
      "Epoch  11\n",
      "Epoch  12\n",
      "Epoch  13\n",
      "Epoch  14\n",
      "Epoch  15\n",
      "Epoch  16\n",
      "Epoch  17\n",
      "Epoch  18\n",
      "Epoch  19\n",
      "Epoch  20\n",
      "Epoch  21\n",
      "Epoch  22\n",
      "Epoch  23\n",
      "Epoch  24\n"
     ]
    }
   ],
   "source": [
    "for e in range(num_epochs):\n",
    "        \n",
    "    print('Epoch ', e)\n",
    "    np.random.shuffle(data)\n",
    "    \n",
    "    pred_sgd = []    \n",
    "    y_true = []\n",
    "    \n",
    "    error = 0\n",
    "    \n",
    "    for _, dat in enumerate(data):\n",
    "        \n",
    "        pred_sgd.append(np.round(predict(dat[:-1],params_sgd)))        \n",
    "        y_true.append(dat[-1])\n",
    "        \n",
    "        error += square_loss(dat[-1], pred_sgd[-1])\n",
    "        \n",
    "        params_sgd = sgd_LR(params_sgd,dat,lr)\n",
    "        \n",
    "    sum_error_sgd.append(error)    \n",
    "    acc_sgd.append(accuracy_score(y_true, pred_sgd))"
   ]
  },
  {
   "cell_type": "code",
   "execution_count": 19,
   "metadata": {},
   "outputs": [
    {
     "name": "stdout",
     "output_type": "stream",
     "text": [
      "Epoch  0\n",
      "Epoch  1\n",
      "Epoch  2\n",
      "Epoch  3\n",
      "Epoch  4\n",
      "Epoch  5\n",
      "Epoch  6\n",
      "Epoch  7\n",
      "Epoch  8\n",
      "Epoch  9\n",
      "Epoch  10\n",
      "Epoch  11\n",
      "Epoch  12\n",
      "Epoch  13\n",
      "Epoch  14\n",
      "Epoch  15\n",
      "Epoch  16\n",
      "Epoch  17\n",
      "Epoch  18\n",
      "Epoch  19\n",
      "Epoch  20\n",
      "Epoch  21\n",
      "Epoch  22\n",
      "Epoch  23\n",
      "Epoch  24\n"
     ]
    }
   ],
   "source": [
    "for e in range(num_epochs):\n",
    "        \n",
    "    print('Epoch ', e)\n",
    "    np.random.shuffle(data)\n",
    "    \n",
    "    pred_adadelta = []    \n",
    "    y_true = []\n",
    "    \n",
    "    error = 0 \n",
    "    \n",
    "    for _, dat in enumerate(data):\n",
    "        \n",
    "        pred_adadelta.append(np.round(predict(dat[:-1],params_adadelta)))\n",
    "        y_true.append(dat[-1])\n",
    "        \n",
    "        error += square_loss(dat[-1], pred_adadelta[-1])\n",
    "        \n",
    "        params_adadelta, s_adadelta, d_adadelta = adadelta(params_adadelta, dat, s_adadelta, d_adadelta, lr, df0k)\n",
    "        \n",
    "    sum_error_adadelta.append(error)\n",
    "    acc_adadelta.append(accuracy_score(y_true, pred_adadelta))"
   ]
  },
  {
   "cell_type": "code",
   "execution_count": 20,
   "metadata": {},
   "outputs": [
    {
     "name": "stdout",
     "output_type": "stream",
     "text": [
      "Epoch  0\n",
      "Epoch  1\n",
      "Epoch  2\n",
      "Epoch  3\n",
      "Epoch  4\n",
      "Epoch  5\n",
      "Epoch  6\n",
      "Epoch  7\n",
      "Epoch  8\n",
      "Epoch  9\n",
      "Epoch  10\n",
      "Epoch  11\n",
      "Epoch  12\n",
      "Epoch  13\n",
      "Epoch  14\n",
      "Epoch  15\n",
      "Epoch  16\n",
      "Epoch  17\n",
      "Epoch  18\n",
      "Epoch  19\n",
      "Epoch  20\n",
      "Epoch  21\n",
      "Epoch  22\n",
      "Epoch  23\n",
      "Epoch  24\n"
     ]
    }
   ],
   "source": [
    "for e in range(num_epochs):\n",
    "        \n",
    "    print('Epoch ', e)\n",
    "    np.random.shuffle(data)\n",
    "    \n",
    "    pred_adam = []    \n",
    "    y_true = []\n",
    "    \n",
    "    error = 0\n",
    "    \n",
    "    for _, dat in enumerate(data):\n",
    "        \n",
    "        pred_adam.append(np.round(predict(dat[:-1],params_adam)))        \n",
    "        y_true.append(dat[-1])\n",
    "        \n",
    "        error += square_loss(dat[-1], pred_adam[-1])\n",
    "        \n",
    "        params_adam, t_val, s_adam, v_adam = adam(params_adam, dat, lr, v_adam, s_adam, t_val, df0k)\n",
    "    \n",
    "    sum_error_adam.append(error)\n",
    "    acc_adam.append(accuracy_score(y_true, pred_adam))"
   ]
  },
  {
   "cell_type": "code",
   "execution_count": 21,
   "metadata": {},
   "outputs": [
    {
     "name": "stdout",
     "output_type": "stream",
     "text": [
      "Epoch  0\n",
      "Epoch  1\n",
      "Epoch  2\n",
      "Epoch  3\n",
      "Epoch  4\n",
      "Epoch  5\n",
      "Epoch  6\n",
      "Epoch  7\n",
      "Epoch  8\n",
      "Epoch  9\n",
      "Epoch  10\n",
      "Epoch  11\n",
      "Epoch  12\n",
      "Epoch  13\n",
      "Epoch  14\n",
      "Epoch  15\n",
      "Epoch  16\n",
      "Epoch  17\n",
      "Epoch  18\n",
      "Epoch  19\n",
      "Epoch  20\n",
      "Epoch  21\n",
      "Epoch  22\n",
      "Epoch  23\n",
      "Epoch  24\n"
     ]
    }
   ],
   "source": [
    "for e in range(num_epochs):\n",
    "        \n",
    "    print('Epoch ', e)\n",
    "    np.random.shuffle(data)\n",
    "    \n",
    "    pred_momentum = []    \n",
    "    y_true = []\n",
    "    \n",
    "    error = 0\n",
    "    \n",
    "    for _, dat in enumerate(data):\n",
    "        \n",
    "        pred_momentum.append(np.round(predict(dat[:-1],params_momentum)))\n",
    "        y_true.append(dat[-1])\n",
    "        \n",
    "        error += square_loss(dat[-1], pred_momentum[-1])\n",
    "        \n",
    "        params_momentum, v_momentum = momentum(params_momentum, dat, lr, v_momentum, df0k)\n",
    "        \n",
    "    sum_error_momentum.append(error)    \n",
    "    acc_momentum.append(accuracy_score(y_true, pred_momentum))"
   ]
  },
  {
   "cell_type": "code",
   "execution_count": 22,
   "metadata": {},
   "outputs": [
    {
     "name": "stdout",
     "output_type": "stream",
     "text": [
      "Epoch  0\n",
      "Epoch  1\n",
      "Epoch  2\n",
      "Epoch  3\n",
      "Epoch  4\n",
      "Epoch  5\n",
      "Epoch  6\n",
      "Epoch  7\n",
      "Epoch  8\n",
      "Epoch  9\n",
      "Epoch  10\n",
      "Epoch  11\n",
      "Epoch  12\n",
      "Epoch  13\n",
      "Epoch  14\n",
      "Epoch  15\n",
      "Epoch  16\n",
      "Epoch  17\n",
      "Epoch  18\n",
      "Epoch  19\n",
      "Epoch  20\n",
      "Epoch  21\n",
      "Epoch  22\n",
      "Epoch  23\n",
      "Epoch  24\n"
     ]
    }
   ],
   "source": [
    "for e in range(num_epochs):\n",
    "        \n",
    "    print('Epoch ', e)\n",
    "    np.random.shuffle(data)\n",
    "    \n",
    "    pred_adagrad = []    \n",
    "    y_true = []\n",
    "    \n",
    "    error = 0\n",
    "    \n",
    "    for _, dat in enumerate(data):\n",
    "        \n",
    "        pred_adagrad.append(np.round(predict(dat[:-1],params_adagrad)))        \n",
    "        y_true.append(dat[-1])\n",
    "        \n",
    "        error += square_loss(dat[-1], pred_adagrad[-1])\n",
    "        \n",
    "        params_adagrad, s_adagrad = adagrad(params_adagrad, dat, lr, s_adagrad, df0k)\n",
    "    \n",
    "    sum_error_adagrad.append(error)\n",
    "    acc_adagrad.append(accuracy_score(y_true, pred_adagrad))"
   ]
  },
  {
   "cell_type": "code",
   "execution_count": 23,
   "metadata": {},
   "outputs": [
    {
     "name": "stdout",
     "output_type": "stream",
     "text": [
      "Epoch  0\n",
      "Epoch  1\n",
      "Epoch  2\n",
      "Epoch  3\n",
      "Epoch  4\n",
      "Epoch  5\n",
      "Epoch  6\n",
      "Epoch  7\n",
      "Epoch  8\n",
      "Epoch  9\n",
      "Epoch  10\n",
      "Epoch  11\n",
      "Epoch  12\n",
      "Epoch  13\n",
      "Epoch  14\n",
      "Epoch  15\n",
      "Epoch  16\n",
      "Epoch  17\n",
      "Epoch  18\n",
      "Epoch  19\n",
      "Epoch  20\n",
      "Epoch  21\n",
      "Epoch  22\n",
      "Epoch  23\n",
      "Epoch  24\n"
     ]
    }
   ],
   "source": [
    "for e in range(num_epochs):\n",
    "        \n",
    "    print('Epoch ', e)\n",
    "    np.random.shuffle(data)\n",
    "    \n",
    "    pred_rmsprop = []\n",
    "    \n",
    "    y_true = []\n",
    "    \n",
    "    error = 0\n",
    "    \n",
    "    for _, dat in enumerate(data):\n",
    "        \n",
    "        pred_rmsprop.append(np.round(predict(dat[:-1],params_rms)))        \n",
    "        y_true.append(dat[-1])\n",
    "        \n",
    "        error += square_loss(dat[-1], pred_rmsprop[-1])\n",
    "        \n",
    "        params_rms, s_rmsprop = rmsprop(params_rms, dat, lr, s_rmsprop, df0k)\n",
    "        \n",
    "    sum_error_rms.append(error)\n",
    "    acc_rms.append(accuracy_score(y_true, pred_rmsprop))"
   ]
  },
  {
   "cell_type": "code",
   "execution_count": 24,
   "metadata": {},
   "outputs": [
    {
     "data": {
      "text/plain": [
       "<matplotlib.legend.Legend at 0x29be71a8c88>"
      ]
     },
     "execution_count": 24,
     "metadata": {},
     "output_type": "execute_result"
    },
    {
     "data": {
      "image/png": "[encoded data removed]",
      "text/plain": [
       "<Figure size 1080x360 with 1 Axes>"
      ]
     },
     "metadata": {
      "needs_background": "light"
     },
     "output_type": "display_data"
    }
   ],
   "source": [
    "plt.figure(figsize=(15, 5))\n",
    "plt.plot(sum_error_sgd, label = 'SGD')\n",
    "plt.plot(sum_error_adadelta, label = 'Adadelta')\n",
    "plt.plot(sum_error_adam, label = 'Adam')\n",
    "plt.plot(sum_error_momentum, label = 'Momentum')\n",
    "plt.plot(sum_error_adagrad, label = 'Adagrad')\n",
    "plt.plot(sum_error_rms, label = 'RMSProp')\n",
    "plt.title('Error')\n",
    "plt.legend()"
   ]
  },
  {
   "cell_type": "code",
   "execution_count": 25,
   "metadata": {},
   "outputs": [
    {
     "data": {
      "text/plain": [
       "<matplotlib.legend.Legend at 0x29be73ec240>"
      ]
     },
     "execution_count": 25,
     "metadata": {},
     "output_type": "execute_result"
    },
    {
     "data": {
      "image/png": "[encoded data removed]",
      "text/plain": [
       "<Figure size 1080x360 with 1 Axes>"
      ]
     },
     "metadata": {
      "needs_background": "light"
     },
     "output_type": "display_data"
    }
   ],
   "source": [
    "plt.figure(figsize=(15, 5))\n",
    "plt.plot(acc_sgd, label = 'SGD')\n",
    "plt.plot(acc_adadelta, label = 'Adadelta')\n",
    "plt.plot(acc_adam, label = 'Adam')\n",
    "plt.plot(acc_momentum, label = 'Momentum')\n",
    "plt.plot(acc_adagrad, label = 'Adagrad')\n",
    "plt.plot(acc_rms, label = 'RMSProp')\n",
    "plt.title('Accuracy')\n",
    "plt.legend()"
   ]
  },
  {
   "cell_type": "markdown",
   "metadata": {},
   "source": [
    "In the first plot, we can observe how  the accuracy increases in time, except on Adadelta and Momentum, this is due to the parameter initialization, that was closer to the minimum than the other weights. Also, we can see hoy Adagrad does not reach a good accuracy in 25 epochs, this is probably because the LR, which is common for all algorithms, is not the optimal for Adagrad.\n",
    "\n",
    "On the other hand, we can see the squared error in the second plot. In time, this error decreases, what makes us deduce that the algorithm improves. When the error (i.e., number of missclassifications) don't vary much, means the algorithm is converging.\n",
    "\n",
    "We will see in the next part, how a good LR per algorithm outperforms this actual approximation."
   ]
  },
  {
   "cell_type": "markdown",
   "metadata": {},
   "source": [
    "#### 2. Convergence of the algorithm with time."
   ]
  },
  {
   "cell_type": "code",
   "execution_count": 26,
   "metadata": {},
   "outputs": [],
   "source": [
    "# Parameters initialization\n",
    "num_epochs = 25\n",
    "params_init =  np.zeros((30,1))\n",
    "\n",
    "t_val = 1\n",
    "lr = 0.0001\n",
    "\n",
    "s = np.zeros((len(params_init),1))\n",
    "v = np.zeros((len(params_init),1))\n",
    "d = np.zeros((len(params_init),1))\n",
    "\n",
    "params_sgd = np.random.uniform(-1,1,size =(30,1))\n",
    "params_adadelta = np.random.uniform(-1,1,size =(30,1))\n",
    "params_adam = np.random.uniform(-1,1,size =(30,1))\n",
    "params_momentum = np.random.uniform(-1,1,size =(30,1))\n",
    "params_adagrad = np.random.uniform(-1,1,size =(30,1))\n",
    "params_rms = np.random.uniform(-1,1,size =(30,1))\n",
    "\n",
    "s_adadelta = s\n",
    "s_adam = s\n",
    "s_adagrad = s\n",
    "s_rmsprop = s\n",
    "\n",
    "v_adam = v\n",
    "v_momentum = v\n",
    "\n",
    "d_adadelta = d\n",
    "\n",
    "sum_error_sgd_2 = []\n",
    "sum_error_adadelta_2 = []\n",
    "sum_error_adam_2 = []\n",
    "sum_error_momentum_2 = []\n",
    "sum_error_adagrad_2 = []\n",
    "sum_error_rms_2 = []\n",
    "\n",
    "acc_sgd_2 = []\n",
    "acc_adadelta_2 = []\n",
    "acc_adam_2 = []\n",
    "acc_momentum_2 = []\n",
    "acc_adagrad_2 = []\n",
    "acc_rms_2 = []"
   ]
  },
  {
   "cell_type": "code",
   "execution_count": 27,
   "metadata": {
    "scrolled": false
   },
   "outputs": [
    {
     "name": "stdout",
     "output_type": "stream",
     "text": [
      "Epoch  0\n",
      "Epoch  1\n",
      "Epoch  2\n",
      "Epoch  3\n",
      "Epoch  4\n",
      "Epoch  5\n",
      "Epoch  6\n",
      "Epoch  7\n",
      "Epoch  8\n",
      "Epoch  9\n",
      "Epoch  10\n",
      "Epoch  11\n",
      "Epoch  12\n",
      "Epoch  13\n",
      "Epoch  14\n",
      "Epoch  15\n",
      "Epoch  16\n",
      "Epoch  17\n",
      "Epoch  18\n",
      "Epoch  19\n",
      "Epoch  20\n",
      "Epoch  21\n",
      "Epoch  22\n",
      "Epoch  23\n",
      "Epoch  24\n"
     ]
    }
   ],
   "source": [
    "for e in range(num_epochs):\n",
    "        \n",
    "    print('Epoch ', e)\n",
    "    np.random.shuffle(data)\n",
    "    \n",
    "    pred_sgd = []    \n",
    "    y_true = []\n",
    "    \n",
    "    error = 0\n",
    "    \n",
    "    for _, dat in enumerate(data):\n",
    "        \n",
    "        pred_sgd.append(np.round(predict(dat[:-1],params_sgd)))        \n",
    "        y_true.append(dat[-1])\n",
    "        \n",
    "        error += square_loss(dat[-1], pred_sgd[-1])\n",
    "        \n",
    "        params_sgd = sgd_LR(params_sgd,dat,0.1)\n",
    "        \n",
    "    sum_error_sgd_2.append(error)    \n",
    "    acc_sgd_2.append(accuracy_score(y_true, pred_sgd))"
   ]
  },
  {
   "cell_type": "code",
   "execution_count": 28,
   "metadata": {},
   "outputs": [
    {
     "name": "stdout",
     "output_type": "stream",
     "text": [
      "Epoch  0\n",
      "Epoch  1\n",
      "Epoch  2\n",
      "Epoch  3\n",
      "Epoch  4\n",
      "Epoch  5\n",
      "Epoch  6\n",
      "Epoch  7\n",
      "Epoch  8\n",
      "Epoch  9\n",
      "Epoch  10\n",
      "Epoch  11\n",
      "Epoch  12\n",
      "Epoch  13\n",
      "Epoch  14\n",
      "Epoch  15\n",
      "Epoch  16\n",
      "Epoch  17\n",
      "Epoch  18\n",
      "Epoch  19\n",
      "Epoch  20\n",
      "Epoch  21\n",
      "Epoch  22\n",
      "Epoch  23\n",
      "Epoch  24\n"
     ]
    }
   ],
   "source": [
    "for e in range(num_epochs):\n",
    "        \n",
    "    print('Epoch ', e)\n",
    "    np.random.shuffle(data)\n",
    "    \n",
    "    pred_adadelta = []    \n",
    "    y_true = []\n",
    "    \n",
    "    error = 0\n",
    "    \n",
    "    for _, dat in enumerate(data):\n",
    "        \n",
    "        pred_adadelta.append(np.round(predict(dat[:-1],params_adadelta)))\n",
    "        y_true.append(dat[-1])\n",
    "        \n",
    "        error += square_loss(dat[-1], pred_adadelta[-1])\n",
    "        \n",
    "        params_adadelta, s_adadelta, d_adadelta = adadelta(params_adadelta, dat, s_adadelta, d_adadelta, 0.9, df0k)\n",
    "        \n",
    "    sum_error_adadelta_2.append(error)\n",
    "    acc_adadelta_2.append(accuracy_score(y_true, pred_adadelta))"
   ]
  },
  {
   "cell_type": "code",
   "execution_count": 29,
   "metadata": {},
   "outputs": [
    {
     "name": "stdout",
     "output_type": "stream",
     "text": [
      "Epoch  0\n",
      "Epoch  1\n",
      "Epoch  2\n",
      "Epoch  3\n",
      "Epoch  4\n",
      "Epoch  5\n",
      "Epoch  6\n",
      "Epoch  7\n",
      "Epoch  8\n",
      "Epoch  9\n",
      "Epoch  10\n",
      "Epoch  11\n",
      "Epoch  12\n",
      "Epoch  13\n",
      "Epoch  14\n",
      "Epoch  15\n",
      "Epoch  16\n",
      "Epoch  17\n",
      "Epoch  18\n",
      "Epoch  19\n",
      "Epoch  20\n",
      "Epoch  21\n",
      "Epoch  22\n",
      "Epoch  23\n",
      "Epoch  24\n"
     ]
    }
   ],
   "source": [
    "for e in range(num_epochs):\n",
    "        \n",
    "    print('Epoch ', e)\n",
    "    np.random.shuffle(data)\n",
    "    \n",
    "    pred_adam = []    \n",
    "    y_true = []\n",
    "    \n",
    "    error = 0\n",
    "    \n",
    "    for _, dat in enumerate(data):\n",
    "        \n",
    "        pred_adam.append(np.round(predict(dat[:-1],params_adam)))        \n",
    "        y_true.append(dat[-1])\n",
    "        \n",
    "        error += square_loss(dat[-1], pred_adam[-1])\n",
    "        \n",
    "        params_adam, t_val, s_adam, v_adam = adam(params_adam, dat, 0.01, v_adam, s_adam, t_val, df0k)\n",
    "    \n",
    "    sum_error_adam_2.append(error)\n",
    "    acc_adam_2.append(accuracy_score(y_true, pred_adam))"
   ]
  },
  {
   "cell_type": "code",
   "execution_count": 30,
   "metadata": {},
   "outputs": [
    {
     "name": "stdout",
     "output_type": "stream",
     "text": [
      "Epoch  0\n",
      "Epoch  1\n",
      "Epoch  2\n",
      "Epoch  3\n",
      "Epoch  4\n",
      "Epoch  5\n",
      "Epoch  6\n",
      "Epoch  7\n",
      "Epoch  8\n",
      "Epoch  9\n",
      "Epoch  10\n",
      "Epoch  11\n",
      "Epoch  12\n",
      "Epoch  13\n",
      "Epoch  14\n",
      "Epoch  15\n",
      "Epoch  16\n",
      "Epoch  17\n",
      "Epoch  18\n",
      "Epoch  19\n",
      "Epoch  20\n",
      "Epoch  21\n",
      "Epoch  22\n",
      "Epoch  23\n",
      "Epoch  24\n"
     ]
    }
   ],
   "source": [
    "for e in range(num_epochs):\n",
    "        \n",
    "    print('Epoch ', e)\n",
    "    np.random.shuffle(data)\n",
    "    \n",
    "    pred_momentum = []    \n",
    "    y_true = []\n",
    "    \n",
    "    error = 0\n",
    "    \n",
    "    for _, dat in enumerate(data):\n",
    "        \n",
    "        pred_momentum.append(np.round(predict(dat[:-1],params_momentum)))\n",
    "        y_true.append(dat[-1])\n",
    "        \n",
    "        error += square_loss(dat[-1], pred_momentum[-1])\n",
    "        \n",
    "        params_momentum, v_momentum = momentum(params_momentum, dat, 0.4, v_momentum, df0k)\n",
    "        \n",
    "    sum_error_momentum_2.append(error)    \n",
    "    acc_momentum_2.append(accuracy_score(y_true, pred_momentum))"
   ]
  },
  {
   "cell_type": "code",
   "execution_count": 31,
   "metadata": {},
   "outputs": [
    {
     "name": "stdout",
     "output_type": "stream",
     "text": [
      "Epoch  0\n",
      "Epoch  1\n",
      "Epoch  2\n",
      "Epoch  3\n",
      "Epoch  4\n",
      "Epoch  5\n",
      "Epoch  6\n",
      "Epoch  7\n",
      "Epoch  8\n",
      "Epoch  9\n",
      "Epoch  10\n",
      "Epoch  11\n",
      "Epoch  12\n",
      "Epoch  13\n",
      "Epoch  14\n",
      "Epoch  15\n",
      "Epoch  16\n",
      "Epoch  17\n",
      "Epoch  18\n",
      "Epoch  19\n",
      "Epoch  20\n",
      "Epoch  21\n",
      "Epoch  22\n",
      "Epoch  23\n",
      "Epoch  24\n"
     ]
    }
   ],
   "source": [
    "for e in range(num_epochs):\n",
    "        \n",
    "    print('Epoch ', e)\n",
    "    np.random.shuffle(data)\n",
    "    \n",
    "    pred_adagrad = []    \n",
    "    y_true = []\n",
    "    \n",
    "    error = 0 \n",
    "    \n",
    "    for _, dat in enumerate(data):\n",
    "        \n",
    "        pred_adagrad.append(np.round(predict(dat[:-1],params_adagrad)))        \n",
    "        y_true.append(dat[-1])\n",
    "        \n",
    "        error += square_loss(dat[-1], pred_adagrad[-1])\n",
    "        \n",
    "        params_adagrad, s_adagrad = adagrad(params_adagrad, dat, 0.4, s_adagrad, df0k)\n",
    "    \n",
    "    sum_error_adagrad_2.append(error)\n",
    "    acc_adagrad_2.append(accuracy_score(y_true, pred_adagrad))"
   ]
  },
  {
   "cell_type": "code",
   "execution_count": 32,
   "metadata": {},
   "outputs": [
    {
     "name": "stdout",
     "output_type": "stream",
     "text": [
      "Epoch  0\n",
      "Epoch  1\n",
      "Epoch  2\n",
      "Epoch  3\n",
      "Epoch  4\n",
      "Epoch  5\n",
      "Epoch  6\n",
      "Epoch  7\n",
      "Epoch  8\n",
      "Epoch  9\n",
      "Epoch  10\n",
      "Epoch  11\n",
      "Epoch  12\n",
      "Epoch  13\n",
      "Epoch  14\n",
      "Epoch  15\n",
      "Epoch  16\n",
      "Epoch  17\n",
      "Epoch  18\n",
      "Epoch  19\n",
      "Epoch  20\n",
      "Epoch  21\n",
      "Epoch  22\n",
      "Epoch  23\n",
      "Epoch  24\n"
     ]
    }
   ],
   "source": [
    "for e in range(num_epochs):\n",
    "        \n",
    "    print('Epoch ', e)\n",
    "    np.random.shuffle(data)\n",
    "    \n",
    "    pred_rmsprop = []\n",
    "    \n",
    "    y_true = []\n",
    "    \n",
    "    error = 0\n",
    "    \n",
    "    for _, dat in enumerate(data):\n",
    "        \n",
    "        pred_rmsprop.append(np.round(predict(dat[:-1],params_rms)))        \n",
    "        y_true.append(dat[-1])        \n",
    "        \n",
    "        error += square_loss(dat[-1], pred_rmsprop[-1])\n",
    "        \n",
    "        params_rms, s_rmsprop = rmsprop(params_rms, dat, 0.4, s_rmsprop, df0k)\n",
    "        \n",
    "    sum_error_rms_2.append(f(params_rms))\n",
    "    acc_rms_2.append(accuracy_score(y_true, pred_rmsprop))"
   ]
  },
  {
   "cell_type": "code",
   "execution_count": 33,
   "metadata": {},
   "outputs": [
    {
     "data": {
      "text/plain": [
       "<matplotlib.legend.Legend at 0x29be72895f8>"
      ]
     },
     "execution_count": 33,
     "metadata": {},
     "output_type": "execute_result"
    },
    {
     "data": {
      "image/png": "[encoded data removed]",
      "text/plain": [
       "<Figure size 1080x360 with 1 Axes>"
      ]
     },
     "metadata": {
      "needs_background": "light"
     },
     "output_type": "display_data"
    }
   ],
   "source": [
    "plt.figure(figsize=(15, 5))\n",
    "plt.plot(acc_sgd_2, label = 'SGD')\n",
    "plt.plot(acc_adadelta_2, label = 'Adadelta')\n",
    "plt.plot(acc_adam_2, label = 'Adam')\n",
    "plt.plot(acc_momentum_2, label = 'Momentum')\n",
    "plt.plot(acc_adagrad_2, label = 'Adagrad')\n",
    "plt.plot(acc_rms_2, label = 'RMSProp')\n",
    "plt.title('Accuracy')\n",
    "plt.legend()"
   ]
  },
  {
   "cell_type": "code",
   "execution_count": 34,
   "metadata": {},
   "outputs": [
    {
     "data": {
      "text/plain": [
       "<matplotlib.legend.Legend at 0x29be730b9e8>"
      ]
     },
     "execution_count": 34,
     "metadata": {},
     "output_type": "execute_result"
    },
    {
     "data": {
      "image/png": "[encoded data removed]",
      "text/plain": [
       "<Figure size 1080x360 with 1 Axes>"
      ]
     },
     "metadata": {
      "needs_background": "light"
     },
     "output_type": "display_data"
    }
   ],
   "source": [
    "plt.figure(figsize=(15, 5))\n",
    "plt.plot(sum_error_sgd_2, label = 'SGD')\n",
    "plt.plot(sum_error_adadelta_2, label = 'Adadelta')\n",
    "plt.plot(sum_error_adam_2, label = 'Adam')\n",
    "plt.plot(sum_error_momentum_2, label = 'Momentum')\n",
    "plt.plot(sum_error_adagrad_2, label = 'Adagrad')\n",
    "plt.plot(sum_error_rms_2, label = 'RMSProp')\n",
    "plt.title('Error')\n",
    "plt.legend()"
   ]
  },
  {
   "cell_type": "markdown",
   "metadata": {},
   "source": [
    "As we expected, with a personalized weight initialization of the LR, all algorithms perform much better than before, reaching a good accuracy quicker than before.\n",
    "\n",
    "Also, the squared error is stable in time since the parameters are optimized for this problem."
   ]
  }
 ],
 "metadata": {
  "kernelspec": {
   "display_name": "Python 3",
   "language": "python",
   "name": "python3"
  },
  "language_info": {
   "codemirror_mode": {
    "name": "ipython",
    "version": 3
   },
   "file_extension": ".py",
   "mimetype": "text/x-python",
   "name": "python",
   "nbconvert_exporter": "python",
   "pygments_lexer": "ipython3",
   "version": "3.7.3"
  }
 },
 "nbformat": 4,
 "nbformat_minor": 4
}
