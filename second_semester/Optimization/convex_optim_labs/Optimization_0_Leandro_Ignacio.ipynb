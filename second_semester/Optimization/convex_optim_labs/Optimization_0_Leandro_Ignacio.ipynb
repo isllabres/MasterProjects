{
  "nbformat": 4,
  "nbformat_minor": 0,
  "metadata": {
    "kernelspec": {
      "display_name": "Python 3",
      "language": "python",
      "name": "python3"
    },
    "language_info": {
      "codemirror_mode": {
        "name": "ipython",
        "version": 3
      },
      "file_extension": ".py",
      "mimetype": "text/x-python",
      "name": "python",
      "nbconvert_exporter": "python",
      "pygments_lexer": "ipython3",
      "version": "3.7.3"
    },
    "colab": {
      "name": "Optimization_01_student.ipynb",
      "provenance": [],
      "collapsed_sections": []
    }
  },
  "cells": [
    {
      "cell_type": "markdown",
      "metadata": {
        "id": "1xPSAFCH4psT",
        "colab_type": "text"
      },
      "source": [
        "## Optimization  \n",
        "\n",
        "# Gradient Descent and Newton's Algorithm"
      ]
    },
    {
      "cell_type": "markdown",
      "metadata": {
        "id": "SvS5H5t24psU",
        "colab_type": "text"
      },
      "source": [
        "    Authors: Jesús Cid-Sueiro\n",
        "             Jerónimo Arenas-García"
      ]
    },
    {
      "cell_type": "markdown",
      "metadata": {
        "id": "douLyvwu4psU",
        "colab_type": "text"
      },
      "source": [
        "#### **Name and NIA:** Ignacio Serrano - 100418944\n",
        "#### **Name and NIA:** Leandro Hidalgo - 100391000"
      ]
    },
    {
      "cell_type": "markdown",
      "metadata": {
        "id": "uX5GN7nb4psV",
        "colab_type": "text"
      },
      "source": [
        "## Exercise: minimize a real-valued function\n",
        "\n",
        "The goal of this exercise is to implement and test optimization algorithms for the minimization of a given function. Gradient descent and Newton's method will be explored.\n",
        "\n",
        "Our goal it so find the minimizer of the real-valued function\n",
        "$$\n",
        "f(w) = 1 - w exp(-w)\n",
        "$$\n",
        "but the whole code will be easily modified to try with other alternative functions.\n",
        "\n",
        "You will need to import some libraries (at least, `numpy` and `matplotlib`). Insert below all the imports needed along the whole notebook. Numpy is usually abbreviated as np and `matplotlib.pyplot` is usually abbreviated as `plt`."
      ]
    },
    {
      "cell_type": "code",
      "metadata": {
        "id": "4RC59FLd4psW",
        "colab_type": "code",
        "colab": {}
      },
      "source": [
        "import numpy as np\n",
        "from numpy.linalg import inv\n",
        "import matplotlib.pyplot as plt\n",
        "import math\n",
        "from sympy.utilities.lambdify import lambdify\n",
        "from sympy import *\n",
        "import sympy"
      ],
      "execution_count": 0,
      "outputs": []
    },
    {
      "cell_type": "markdown",
      "metadata": {
        "id": "4duzzaxD4psZ",
        "colab_type": "text"
      },
      "source": [
        "### Part 1: The function and its derivatives.\n",
        "\n",
        "**Question 1.1**: Implement the following three methods:\n",
        "\n",
        "* Method **`f`**: given $w$, it returns the value of function $f(w)$.\n",
        "* Method **`df`**: given $w$, it returns the derivative of $f$ at $w$\n",
        "* Medhod **`d2f`**: given $w$, it returns the second derivative of $f$ at $w$\n"
      ]
    },
    {
      "cell_type": "code",
      "metadata": {
        "id": "-voMRjAx4psZ",
        "colab_type": "code",
        "colab": {}
      },
      "source": [
        "w = Symbol('w')\n",
        "\n",
        "f =  1-w*exp(-w)\n",
        "df = f.diff(w)\n",
        "d2f = df.diff(w)\n",
        "\n",
        "# Funcion f\n",
        "# <SOL>\n",
        "f = lambdify(w, f)\n",
        "# </SOL>\n",
        "\n",
        "# First derivative\n",
        "# <SOL>\n",
        "df = lambdify(w, df)\n",
        "# </SOL>\n",
        "\n",
        "# Second derivative\n",
        "# <SOL>\n",
        "d2f = lambdify(w, d2f)\n",
        "# </SOL>"
      ],
      "execution_count": 0,
      "outputs": []
    },
    {
      "cell_type": "markdown",
      "metadata": {
        "id": "SpCTGD6o4psi",
        "colab_type": "text"
      },
      "source": [
        "### Part 2: Gradient descent.\n",
        "\n",
        "**Question 2.1**: Implement a method **`gd`** that, given **`w`**, a learning rate parameter **`rho`** and a **`df`** method, applies a single iteration of the gradient descent algorithm and returns the updated weights and the squared module of the gradient, $|f'(w)|^2$"
      ]
    },
    {
      "cell_type": "code",
      "metadata": {
        "id": "je3hxyTq4psj",
        "colab_type": "code",
        "colab": {}
      },
      "source": [
        "def gd(w, rho, df):\n",
        "    w_new = w - rho*df(w)\n",
        "    mod_sq = abs(df(w))**2\n",
        "    return w_new, mod_sq"
      ],
      "execution_count": 0,
      "outputs": []
    },
    {
      "cell_type": "markdown",
      "metadata": {
        "id": "V-h3UKdE4psm",
        "colab_type": "text"
      },
      "source": [
        "**Question 2.2**: Take **`rho=0.5`** and apply the gradient descent to optimize the given function. To do so, start with an initial value $w=0$ and iterate. Stop the algorithm when the squared gradient is below $10^{-9}$. Save two lists:\n",
        "\n",
        "* A list of succesive values of $w_n$\n",
        "* A list of succesive values of the function $f(w_n)$."
      ]
    },
    {
      "cell_type": "code",
      "metadata": {
        "id": "zlNjdUfH4psm",
        "colab_type": "code",
        "colab": {}
      },
      "source": [
        "# <SOL>\n",
        "# <SOL>\n",
        "weights = []\n",
        "f_values = []\n",
        "\n",
        "w = 0\n",
        "rho= 0.5\n",
        "mod_sq = abs(df(w))**2\n",
        "while(mod_sq>10**-9):\n",
        "  \n",
        "  weights.append(w)\n",
        "  f_values.append(f(w))\n",
        "\n",
        "  w_new, mod_sq_new = gd(w, rho, df)\n",
        "\n",
        "  mod_sq = mod_sq_new\n",
        "  w = w_new\n",
        "# </SOL>\n",
        "# </SOL>"
      ],
      "execution_count": 0,
      "outputs": []
    },
    {
      "cell_type": "markdown",
      "metadata": {
        "id": "NEpoQZ2z4pso",
        "colab_type": "text"
      },
      "source": [
        "**Question 2.3**: Plot, in a single figure:\n",
        "\n",
        "* The given function, for values ranging from 0 to 20.\n",
        "* The sequence of points $(w_n, f(w_n))$."
      ]
    },
    {
      "cell_type": "code",
      "metadata": {
        "id": "6dM0Lrbi4psp",
        "colab_type": "code",
        "outputId": "c3183729-3b75-4591-9776-79443416f81b",
        "colab": {
          "base_uri": "https://localhost:8080/",
          "height": 265
        }
      },
      "source": [
        "# <SOL>\n",
        "plt.plot(weights[:20],f_values[:20], label='Sequence of points (wn, f(wn))')\n",
        "plt.plot(f(np.arange(0,20,1)), label ='f from 0 to 20')\n",
        "plt.legend()\n",
        "plt.grid()\n",
        "plt.show()\n",
        "# </SOL>"
      ],
      "execution_count": 5,
      "outputs": [
        {
          "output_type": "display_data",
          "data": {
            "image/png": "[encoded data removed]",
            "text/plain": [
              "<Figure size 432x288 with 1 Axes>"
            ]
          },
          "metadata": {
            "tags": [],
            "needs_background": "light"
          }
        }
      ]
    },
    {
      "cell_type": "markdown",
      "metadata": {
        "id": "juf63I754ps0",
        "colab_type": "text"
      },
      "source": [
        "**Question 2.4**: Implement the backtracking method. To do so, define method **`gd_bt`** that, given **`w`** a **`df`** method, the backtracking parameters **`alpha`** and **`beta`**, applies an iteration of the gradient descent algorithm, returning the updated weights and the squared module of the gradient,\n",
        "$|f'(w)|^2$ \n"
      ]
    },
    {
      "cell_type": "code",
      "metadata": {
        "id": "giu_ltUs4ps0",
        "colab_type": "code",
        "colab": {}
      },
      "source": [
        "# <SOL>\n",
        "def gd_bt(w, df, rho, alpha, beta):\n",
        "\n",
        "  delta = -1*df(w)\n",
        "  f1 = f(w + rho*delta)\n",
        "  f2 = f(w) + alpha*rho*df(w)*delta\n",
        "\n",
        "  while f1 > f2:\n",
        "    rho = beta*rho   \n",
        "    f1 = f(w + rho*delta)\n",
        "    f2 = f(w) + alpha*rho*df(w)*delta\n",
        "\n",
        "  grad_sq = abs(df(w))**2\n",
        "  w_new = w + rho*delta\n",
        "  \n",
        "  return w_new, grad_sq\n",
        "# </SOL>"
      ],
      "execution_count": 0,
      "outputs": []
    },
    {
      "cell_type": "markdown",
      "metadata": {
        "id": "U5-W0hAd4ps4",
        "colab_type": "text"
      },
      "source": [
        "### Part 3: Newton's method.\n",
        "\n",
        "**Question 3.1**: Implement a method **`newton`** that, given **`w`**, a gradient method **`df`** and a second derivative method **`df2`**, applies a single iteration of the Newton's method with backtracking selection of the learning rate, returning the updated weights and the squared Newton decrement"
      ]
    },
    {
      "cell_type": "code",
      "metadata": {
        "id": "MVyURKSV4ps4",
        "colab_type": "code",
        "colab": {}
      },
      "source": [
        "def newton(w0, df, df2, alpha, beta,rho):\n",
        "    # <SOL>\n",
        "    tol = 1e-4\n",
        "    decrement = 1\n",
        "\n",
        "    nt_step = (-1/df2(w0))*df(w0)\n",
        "    decrement = (df(w0)*df(w0))*(df2(w0))\n",
        "\n",
        "    if decrement/2 > tol:\n",
        "      w_new, grad = gd_bt(w0,df,rho,alpha,beta)\n",
        "      w0 = w_new + rho*nt_step\n",
        "    return w0, decrement\n",
        "    # <SOL>"
      ],
      "execution_count": 0,
      "outputs": []
    },
    {
      "cell_type": "markdown",
      "metadata": {
        "id": "pxYA7zVR4ps7",
        "colab_type": "text"
      },
      "source": [
        "**Question 3.2**: Apply the Newton's method to optimize the given function. To do so, start with an initial value $w=0$ and iterate $20$ times. Save two lists:\n",
        "\n",
        "* A list of succesive values of $w_n$\n",
        "* A list of succesive values of the function $f(w_n)$."
      ]
    },
    {
      "cell_type": "code",
      "metadata": {
        "id": "bTE9Os_n4ps7",
        "colab_type": "code",
        "colab": {}
      },
      "source": [
        "# <SOL>\n",
        "w = 0\n",
        "n = 40\n",
        "w_n = []\n",
        "f_wn = []\n",
        "a = 0.001\n",
        "b = 0.75\n",
        "rho = 1.001\n",
        "\n",
        "for i in range(n):\n",
        "\n",
        "  w_n.append(w)\n",
        "  f_wn.append(f(w))\n",
        "  w_new, decrement = newton(w,df, d2f,a,b,rho)\n",
        "  w = w_new\n",
        "# </SOL>"
      ],
      "execution_count": 0,
      "outputs": []
    },
    {
      "cell_type": "markdown",
      "metadata": {
        "id": "AcKsfJYD4ps_",
        "colab_type": "text"
      },
      "source": [
        "**Question 3.3**: Plot, in a single figure:\n",
        "\n",
        "* The given function, for values ranging from 0 to 20.\n",
        "* The sequence of points $(w_n, f(w_n))$."
      ]
    },
    {
      "cell_type": "code",
      "metadata": {
        "id": "AYgUAev84ps_",
        "colab_type": "code",
        "outputId": "81d2ca61-5608-42cb-c202-6d9963f4f199",
        "colab": {
          "base_uri": "https://localhost:8080/",
          "height": 592
        }
      },
      "source": [
        "# <SOL>\n",
        "plt.figure(figsize=(20,10))\n",
        "plt.plot(f(np.arange(0,20,1)), '--',label ='f from 0 to 20')\n",
        "plt.plot(w_n,f_wn, label='Newthons method')\n",
        "plt.legend()\n",
        "plt.grid()\n",
        "plt.show()\n",
        "# </SOL>"
      ],
      "execution_count": 9,
      "outputs": [
        {
          "output_type": "display_data",
          "data": {
            "image/png": "[encoded data removed]",
            "text/plain": [
              "<Figure size 1440x720 with 1 Axes>"
            ]
          },
          "metadata": {
            "tags": [],
            "needs_background": "light"
          }
        }
      ]
    },
    {
      "cell_type": "markdown",
      "metadata": {
        "id": "9ZLvmBAB4ptC",
        "colab_type": "text"
      },
      "source": [
        "You can check the effect of modifying the value of the learning rate."
      ]
    },
    {
      "cell_type": "markdown",
      "metadata": {
        "id": "XOCRoI6q4ptD",
        "colab_type": "text"
      },
      "source": [
        "### Part 4: Multidimensional optimization"
      ]
    },
    {
      "cell_type": "markdown",
      "metadata": {
        "id": "g_v3NRXj4ptD",
        "colab_type": "text"
      },
      "source": [
        "In this section we will generalize methods gd_bt and newton to deal with multidimensional optimization problems. We will apply it to the minimization o the function\n",
        "\n",
        "$$\n",
        "g(w_0, w_1) = \\log\\left(\\exp(w_0+3 w_1 -01) + \\exp(w_0-3w_1 -0.1) + \\exp(-w_0 -0.1)\\right)\n",
        "$$"
      ]
    },
    {
      "cell_type": "markdown",
      "metadata": {
        "id": "jTn2__2b4ptD",
        "colab_type": "text"
      },
      "source": [
        "**Question 4.1**: Implement the following three methods:\n",
        "\n",
        "* Method **`g`**: given $w$, it returns the value of function $f(w)$.\n",
        "* Method **`dg`**: given $w$, it returns the gradient of $f$ at $w$\n",
        "* Medhod **`d2g`**: given $w$, it returns the Hessian matrix of $f$ at $w$"
      ]
    },
    {
      "cell_type": "code",
      "metadata": {
        "id": "eyzvR00P4ptE",
        "colab_type": "code",
        "colab": {}
      },
      "source": [
        "# Funcion f\n",
        "w0, w1 = symbols('w0 w1', real=True)\n",
        "var = Matrix([w0, w1])\n",
        "\n",
        "# Funcion f\n",
        "# <SOL>\n",
        "g = Matrix([sympy.log(exp(w0 + 3*w1 -0.1) + exp(w0 - 3*w1 - 0.1) + exp(-1*w0 - 0.1))])\n",
        "# </SOL>\n",
        "\n",
        "# First derivative\n",
        "# <SOL>\n",
        "dg = g.jacobian(var)\n",
        "# </SOL>\n",
        "# Second derivative\n",
        "# <SOL>\n",
        "d2g = hessian(g, var)\n",
        "#</SOL>"
      ],
      "execution_count": 0,
      "outputs": []
    },
    {
      "cell_type": "markdown",
      "metadata": {
        "id": "i6TE_mmZ4ptG",
        "colab_type": "text"
      },
      "source": [
        "**Question 4.2**: Extend method **`gd_bt`** to multidimensional inputs.\n"
      ]
    },
    {
      "cell_type": "code",
      "metadata": {
        "id": "KH7WbZyv4ptG",
        "colab_type": "code",
        "colab": {}
      },
      "source": [
        "# <SOL>\n",
        "def gd_bt_multi(w, dg, alpha, beta):\n",
        "  w_new = np.zeros(len(w))\n",
        "  rho=1\n",
        "  grad=dg.evalf(subs={w0: w[0], w1: w[1]}).T\n",
        "  delta = -1*grad\n",
        "  \n",
        "  g1 = g.evalf(subs={w0: (w[0] + rho*grad[0]), w1: (w[1] + rho*grad[1])})\n",
        "  g2 = g.evalf(subs={w0: w[0], w1: w[1]}) + alpha*rho*grad.T*delta\n",
        "\n",
        "  while g1[0] >= g2[0]:\n",
        "    rho = beta*rho\n",
        "    g1 = g.evalf(subs={w0: (w[0] + rho*grad[0]), w1: (w[1] + rho*grad[1])})\n",
        "    g2 = g.evalf(subs={w0: w[0], w1: w[1]}) + alpha*rho*grad.T*delta\n",
        "    w_new[0] = w[0] + rho*delta[0]\n",
        "    w_new[1] = w[1] + rho*delta[1]\n",
        "    w = w_new\n",
        "  # grad_sq = abs(dg.evalf(subs={w0: w[0], w1: w[1]}))**2             \n",
        "  return w_new, rho\n",
        "# </SOL>"
      ],
      "execution_count": 0,
      "outputs": []
    },
    {
      "cell_type": "markdown",
      "metadata": {
        "id": "uQbatjHo4ptK",
        "colab_type": "text"
      },
      "source": [
        "**Question 4.3**: Extend method **`newton`** to multidimensional inputs.\n"
      ]
    },
    {
      "cell_type": "code",
      "metadata": {
        "id": "GF98GE_9vB45",
        "colab_type": "code",
        "colab": {}
      },
      "source": [
        "# <SOL>\n",
        "def newton_multi(w, dg, d2g):\n",
        "    # <SOL>\n",
        "    alpha = 0.01\n",
        "    beta = 0.3\n",
        "    tol = 1e-7\n",
        "    hess = d2g.evalf(subs={w0: w[0], w1: w[1]})\n",
        "    grdt = dg.evalf(subs={w0: w[0], w1: w[1]}).T\n",
        "    t_step = -1*hess.inv()*grdt\n",
        "    decrement = grdt.T*hess.inv()*grdt\n",
        "    if decrement[0]/2 <= tol:\n",
        "      return w, decrement\n",
        "    else:\n",
        "      w_new, rho = gd_bt_multi(w,dg,alpha,beta)\n",
        "      w[0] = w_new[0] + rho*t_step[0]\n",
        "      w[1] = w_new[1] + rho*t_step[1]\n",
        "    return w, decrement\n",
        "# <SOL>"
      ],
      "execution_count": 0,
      "outputs": []
    },
    {
      "cell_type": "markdown",
      "metadata": {
        "id": "jkhENwny4ptM",
        "colab_type": "text"
      },
      "source": [
        "**Question 4.4**: Apply both methods to minimize function $g({\\bf w})$. Plot the evolution of the function values at the given point, vs the number of iterations.\n"
      ]
    },
    {
      "cell_type": "code",
      "metadata": {
        "id": "-M2P116Z4ptN",
        "colab_type": "code",
        "colab": {}
      },
      "source": [
        "w = [0.1,0.6]\n",
        "n = 20\n",
        "w0_n = []\n",
        "w1_n = []\n",
        "g_wn = []\n",
        "\n",
        "for i in range(n):\n",
        "  w0_n.append(w[0])\n",
        "  w1_n.append(w[1])\n",
        "  g_wn.append(g.evalf(subs={w0: w[0], w1: w[1]}))\n",
        "  w_new, decrement = newton_multi(w,dg,d2g)\n",
        "  w = w_new"
      ],
      "execution_count": 0,
      "outputs": []
    },
    {
      "cell_type": "code",
      "metadata": {
        "id": "8sqHfpcBWitZ",
        "colab_type": "code",
        "colab": {
          "base_uri": "https://localhost:8080/",
          "height": 34
        },
        "outputId": "cf004f67-6d25-481d-e146-e5b5a2759466"
      },
      "source": [
        "print('Mininimum value achived:',min(np.asarray(g_wn))[0])"
      ],
      "execution_count": 35,
      "outputs": [
        {
          "output_type": "stream",
          "text": [
            "Mininimum value achived: 0.939917032782622\n"
          ],
          "name": "stdout"
        }
      ]
    },
    {
      "cell_type": "code",
      "metadata": {
        "id": "yjB0tylK5txm",
        "colab_type": "code",
        "outputId": "f963d372-4813-4459-f981-2ae4968ab19c",
        "colab": {
          "base_uri": "https://localhost:8080/",
          "height": 283
        }
      },
      "source": [
        "plt.plot(np.arange(20),np.asarray(g_wn))\n",
        "plt.grid()\n",
        "plt.ylabel('g(w)')\n",
        "plt.xlabel('Iteration number')\n",
        "plt.show()"
      ],
      "execution_count": 34,
      "outputs": [
        {
          "output_type": "display_data",
          "data": {
            "image/png": "[encoded data removed]",
            "text/plain": [
              "<Figure size 432x288 with 1 Axes>"
            ]
          },
          "metadata": {
            "tags": [],
            "needs_background": "light"
          }
        }
      ]
    }
  ]
}