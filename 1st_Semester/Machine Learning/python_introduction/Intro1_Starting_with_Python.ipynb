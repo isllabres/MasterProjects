{
  "nbformat": 4,
  "nbformat_minor": 0,
  "metadata": {
    "colab": {
      "name": "Intro1_Starting_with_Python.ipynb",
      "provenance": [],
      "collapsed_sections": []
    },
    "kernelspec": {
      "display_name": "Python 3",
      "language": "python",
      "name": "python3"
    },
    "language_info": {
      "codemirror_mode": {
        "name": "ipython",
        "version": 3
      },
      "file_extension": ".py",
      "mimetype": "text/x-python",
      "name": "python",
      "nbconvert_exporter": "python",
      "pygments_lexer": "ipython3",
      "version": "3.7.1"
    }
  },
  "cells": [
    {
      "cell_type": "markdown",
      "metadata": {
        "colab_type": "text",
        "id": "m6ZCShOpJpWT"
      },
      "source": [
        "# A brief tutorial of basic python\n",
        "\n",
        "Notebook version: \n",
        "   * 1.0 (Sep 3, 2018) - Adapted to TMDE\n",
        "   * 1.1 (Sep 2, 2019) - Dictionaries added\n",
        "\n",
        "Authors: Jerónimo Arenas García (jeronimo.arenas@uc3m.es), Jesús Cid Sueiro (jcid@tsc.uc3m.es), Vanessa Gómez Verdejo (vanessa@tsc.uc3m.es), Óscar García Hinde (oghinnde@tsc.uc3m.es), Simón Roca Sotelo (sroca@tsc.uc3m.es)"
      ]
    },
    {
      "cell_type": "markdown",
      "metadata": {
        "colab_type": "text",
        "id": "_U4XTaBiJpWW"
      },
      "source": [
        "From wikipedia: \"Python is a widely used general-purpose, high-level programming language. Its design philosophy emphasizes code readability, and its syntax allows programmers to express concepts in fewer lines of code than would be possible in languages such as C++ or Java. The language provides constructs intended to enable clear programs on both a small and large scale.\"\n",
        "\n",
        "To easily work with Python from any computer we can use the [Google Colaboratory](https://colab.research.google.com/notebooks/welcome.ipynb) tool, which provides a free envoriment to run Python Jupyter notebooks.\n",
        "\n",
        "Throughout this tutorial, students will learn some of the basic characteristics of the Python programming language, as well as the main characteristics of Jupyter notebooks."
      ]
    },
    {
      "cell_type": "markdown",
      "metadata": {
        "colab_type": "text",
        "id": "bwEJEbp8MBZn"
      },
      "source": [
        "# A Python Jupyter Notebook \n",
        "\n",
        "A python noteboook is an interactive web page made up of cells where each cell can contain text (like this one) or executable code. For instance, the next cell cotains excutable code:"
      ]
    },
    {
      "cell_type": "code",
      "metadata": {
        "colab_type": "code",
        "id": "gmjVmN16OCuD",
        "outputId": "8b29977e-6053-49bf-ef14-4e777bc647ab",
        "colab": {
          "base_uri": "https://localhost:8080/",
          "height": 34
        }
      },
      "source": [
        "a = 'house'\n",
        "print(a)"
      ],
      "execution_count": 0,
      "outputs": [
        {
          "output_type": "stream",
          "text": [
            "house\n"
          ],
          "name": "stdout"
        }
      ]
    },
    {
      "cell_type": "markdown",
      "metadata": {
        "colab_type": "text",
        "id": "MH70i6FHOGZp"
      },
      "source": [
        "To run this code and check its output, you first have to be conected to a Python  runtime server (check the top right pannel). Then you can:\n",
        "* Select the cell you want to run and click the Play button (on the left)\n",
        "* Select the cell you want to run and type Cmd/Ctrl+Enter \n",
        "* Select the cell you want to run and type Shift+Enter to run the cell. In this case, you will additionaly be moved to the next cell.\n",
        "\n",
        "You can also use the Runtime options (on the top menu) to run several cells at the same time or stop an execution."
      ]
    },
    {
      "cell_type": "markdown",
      "metadata": {
        "colab_type": "text",
        "id": "rcdx7N5bJpWY"
      },
      "source": [
        "# Introduction to Python\n",
        "\n",
        "## 1. Introduction to Strings"
      ]
    },
    {
      "cell_type": "markdown",
      "metadata": {
        "colab_type": "text",
        "id": "YFuxC8zVJpWb"
      },
      "source": [
        "Among the different native python types, we will focus on strings for now, since they will be the core type that we will use to represent text. Essentially, a string is just a concatenation of characters."
      ]
    },
    {
      "cell_type": "code",
      "metadata": {
        "colab_type": "code",
        "id": "KANFMqSqJpWe",
        "colab": {}
      },
      "source": [
        "str1 = '\"Hola\" is how we say \"hello\" in Spanish.'\n",
        "str2 = \"Strings can also be defined with quotes; try to be sistematic and consistent.\""
      ],
      "execution_count": 0,
      "outputs": []
    },
    {
      "cell_type": "markdown",
      "metadata": {
        "colab_type": "text",
        "id": "5yarHqiMJpWm"
      },
      "source": [
        "It's easy to check the type of a variable with the type() command:"
      ]
    },
    {
      "cell_type": "code",
      "metadata": {
        "colab_type": "code",
        "id": "dRfBaiDCJpWn",
        "outputId": "44e33c9b-4c1f-4109-e10c-8b7a24506961",
        "colab": {
          "base_uri": "https://localhost:8080/",
          "height": 102
        }
      },
      "source": [
        "print(str1)\n",
        "print(str2)\n",
        "print(type(str1))\n",
        "print(type(3))\n",
        "print(type(3.))"
      ],
      "execution_count": 0,
      "outputs": [
        {
          "output_type": "stream",
          "text": [
            "\"Hola\" is how we say \"hello\" in Spanish.\n",
            "Strings can also be defined with quotes; try to be sistematic and consistent.\n",
            "<class 'str'>\n",
            "<class 'int'>\n",
            "<class 'float'>\n"
          ],
          "name": "stdout"
        }
      ]
    },
    {
      "cell_type": "markdown",
      "metadata": {
        "colab_type": "text",
        "id": "x-94okxWJpWu"
      },
      "source": [
        "The following commands implement some common operations with strings in Python. Take a look at them and try to work out what the result of each operation will be. Then, execute the commands and check what the actual results are."
      ]
    },
    {
      "cell_type": "code",
      "metadata": {
        "colab_type": "code",
        "id": "gna869bGJpWw",
        "outputId": "ab812cce-60ae-4ab4-def5-984be1fe6a65",
        "colab": {
          "base_uri": "https://localhost:8080/",
          "height": 34
        }
      },
      "source": [
        "print(str1[0:5])\n",
        "#\"Hola"
      ],
      "execution_count": 0,
      "outputs": [
        {
          "output_type": "stream",
          "text": [
            "\"Hola\n"
          ],
          "name": "stdout"
        }
      ]
    },
    {
      "cell_type": "code",
      "metadata": {
        "colab_type": "code",
        "id": "kGjVP3QmJpW2",
        "outputId": "bc31c89a-b493-47c3-983c-13c67b74c37e",
        "colab": {
          "base_uri": "https://localhost:8080/",
          "height": 34
        }
      },
      "source": [
        "print(str1 + str2)\n",
        "#\"Hola\" is how we say \"hello\" in Spanish.Strings can also be defined with quotes; try to be sistematic and consistent."
      ],
      "execution_count": 0,
      "outputs": [
        {
          "output_type": "stream",
          "text": [
            "\"Hola\" is how we say \"hello\" in Spanish.Strings can also be defined with quotes; try to be sistematic and consistent.\n"
          ],
          "name": "stdout"
        }
      ]
    },
    {
      "cell_type": "code",
      "metadata": {
        "colab_type": "code",
        "id": "pEv5Lj8hJpW8",
        "outputId": "d2675b68-71fc-4017-d113-846f2c05b32f",
        "colab": {
          "base_uri": "https://localhost:8080/",
          "height": 34
        }
      },
      "source": [
        "print(str1.lower())\n",
        "#\"hola\" is how we say \"hello\" in spanish."
      ],
      "execution_count": 0,
      "outputs": [
        {
          "output_type": "stream",
          "text": [
            "\"hola\" is how we say \"hello\" in spanish.\n"
          ],
          "name": "stdout"
        }
      ]
    },
    {
      "cell_type": "code",
      "metadata": {
        "colab_type": "code",
        "id": "-txasR63JpXC",
        "outputId": "1520471a-a02b-40b0-95bd-8119b85293be",
        "colab": {
          "base_uri": "https://localhost:8080/",
          "height": 34
        }
      },
      "source": [
        "print(str1.upper())\n",
        "#\"HOLA\" IS HOW WE SAY \"HELLO\" IN SPANISH."
      ],
      "execution_count": 0,
      "outputs": [
        {
          "output_type": "stream",
          "text": [
            "\"HOLA\" IS HOW WE SAY \"HELLO\" IN SPANISH.\n"
          ],
          "name": "stdout"
        }
      ]
    },
    {
      "cell_type": "code",
      "metadata": {
        "colab_type": "code",
        "id": "iSTDsJ5FJpXJ",
        "outputId": "1b920972-04cc-4719-cb5c-4b116f0b86c9",
        "colab": {
          "base_uri": "https://localhost:8080/",
          "height": 34
        }
      },
      "source": [
        "print(len(str1))\n",
        "#numero de caracteres de str1"
      ],
      "execution_count": 0,
      "outputs": [
        {
          "output_type": "stream",
          "text": [
            "40\n"
          ],
          "name": "stdout"
        }
      ]
    },
    {
      "cell_type": "code",
      "metadata": {
        "colab_type": "code",
        "id": "CR5ve9tGJpXO",
        "outputId": "20ebe2ae-2f80-4c0b-cd85-139f064ae3fe",
        "colab": {
          "base_uri": "https://localhost:8080/",
          "height": 34
        }
      },
      "source": [
        "print(str1.replace('h','H'))\n",
        "#\"Hola\" is How we say \"Hello\" in SpanisH."
      ],
      "execution_count": 0,
      "outputs": [
        {
          "output_type": "stream",
          "text": [
            "\"Hola\" is How we say \"Hello\" in SpanisH.\n"
          ],
          "name": "stdout"
        }
      ]
    },
    {
      "cell_type": "code",
      "metadata": {
        "colab_type": "code",
        "id": "EE4lK_ATJpXU",
        "outputId": "0808b198-d951-4b31-90cf-d77b6af5af35",
        "colab": {
          "base_uri": "https://localhost:8080/",
          "height": 34
        }
      },
      "source": [
        "str3= 'This is a question'\n",
        "str3=str3.replace('i', 'o')\n",
        "str3=str3.lower()\n",
        "print(str3[0:3])\n",
        "#tho"
      ],
      "execution_count": 0,
      "outputs": [
        {
          "output_type": "stream",
          "text": [
            "tho\n"
          ],
          "name": "stdout"
        }
      ]
    },
    {
      "cell_type": "markdown",
      "metadata": {
        "colab_type": "text",
        "id": "mxEQ1qsJJpXc"
      },
      "source": [
        "It is interesting to note the difference in the use of commands 'lower' and 'len'. Python is an object-oriented language, and str1 is an instance of the Python class 'string'. Therefore, str1.lower() invokes the method lower() of the class string to which the object str1 belongs, while len(str1) or type(str1) imply the use of external methods that don't belong to the class string. In any case, we will not pay (much) attention to these issues during the session."
      ]
    },
    {
      "cell_type": "markdown",
      "metadata": {
        "colab_type": "text",
        "id": "Fo0VZsxBJpXe"
      },
      "source": [
        "Finally, note that there exist characters that deserve special consideration. Apart from language-oriented characters or special symbols (e.g., \\euro), the following characters are commonly used to denote carriage return or the start of new lines"
      ]
    },
    {
      "cell_type": "code",
      "metadata": {
        "colab_type": "code",
        "id": "6cm_3NYNJpXf",
        "outputId": "19a13e40-5095-4d77-c224-d82afc096d12",
        "colab": {
          "base_uri": "https://localhost:8080/",
          "height": 34
        }
      },
      "source": [
        "print('This is just a carriage return symbol.\\r Second line will start on top of the first line.')"
      ],
      "execution_count": 0,
      "outputs": [
        {
          "output_type": "stream",
          "text": [
            "This is just a carriage return symbol.\r Second line will start on top of the first line.\n"
          ],
          "name": "stdout"
        }
      ]
    },
    {
      "cell_type": "code",
      "metadata": {
        "colab_type": "code",
        "id": "-909Wto_JpXk",
        "outputId": "beb4ff69-abd7-4cb0-aa72-1c1ae8d4c540",
        "colab": {
          "base_uri": "https://localhost:8080/",
          "height": 51
        }
      },
      "source": [
        "print('If you wish to start a new line,\\r\\nthe line feed character should also be used.')"
      ],
      "execution_count": 0,
      "outputs": [
        {
          "output_type": "stream",
          "text": [
            "If you wish to start a new line,\r\n",
            "the line feed character should also be used.\n"
          ],
          "name": "stdout"
        }
      ]
    },
    {
      "cell_type": "code",
      "metadata": {
        "colab_type": "code",
        "id": "dk_FvJt_JpXq",
        "outputId": "126fdfce-b803-4e91-9233-ae72cfe37b34",
        "colab": {
          "base_uri": "https://localhost:8080/",
          "height": 51
        }
      },
      "source": [
        "print('But note that most applications are tolerant\\nto the use of \\'line feed\\' only.')"
      ],
      "execution_count": 0,
      "outputs": [
        {
          "output_type": "stream",
          "text": [
            "But note that most applications are tolerant\n",
            "to the use of 'line feed' only.\n"
          ],
          "name": "stdout"
        }
      ]
    },
    {
      "cell_type": "markdown",
      "metadata": {
        "colab_type": "text",
        "id": "GiGMYWtcJpXv"
      },
      "source": [
        "## 2. Working with Python lists and dictionaries"
      ]
    },
    {
      "cell_type": "markdown",
      "metadata": {
        "colab_type": "text",
        "id": "ZXaL2Q1EJpXw"
      },
      "source": [
        "Python lists are iterable containers that hold a number of other objects, in a given order. To create a list, just put different values separated by commas between square brackets:\n"
      ]
    },
    {
      "cell_type": "code",
      "metadata": {
        "colab_type": "code",
        "id": "G0cjZ6YZJpXw",
        "outputId": "2953afad-6fd2-4293-d950-6f203b728ac6",
        "colab": {
          "base_uri": "https://localhost:8080/",
          "height": 68
        }
      },
      "source": [
        "list1 = ['student', 'teacher', 1997, 2000]\n",
        "print(list1)\n",
        "list2 = [1, 2, 3, 4, 5]\n",
        "print(list2)\n",
        "list3 = ['a', 'b', 'c', 'd']\n",
        "print(list3)"
      ],
      "execution_count": 0,
      "outputs": [
        {
          "output_type": "stream",
          "text": [
            "['student', 'teacher', 1997, 2000]\n",
            "[1, 2, 3, 4, 5]\n",
            "['a', 'b', 'c', 'd']\n"
          ],
          "name": "stdout"
        }
      ]
    },
    {
      "cell_type": "markdown",
      "metadata": {
        "colab_type": "text",
        "id": "UKuwrT6HJpX0"
      },
      "source": [
        "To check the value of a list element, indicate between brackets the index (or indices) to obtain the value (or values) at that position (positions).\n",
        "\n",
        "Run the code fragment below, and try to guess what the output of each command will be.\n",
        "\n",
        "Note: Python indexing starts from 0!!!!"
      ]
    },
    {
      "cell_type": "code",
      "metadata": {
        "colab_type": "code",
        "id": "GgkZdOBEJpX1",
        "outputId": "bd72de41-72ce-438e-e648-039a3bbe8580",
        "colab": {
          "base_uri": "https://localhost:8080/",
          "height": 68
        }
      },
      "source": [
        "print(list1[0])\n",
        "print(list2[2:4])\n",
        "print(list3[-1]) #Vector circular, índice -1 equivale a índice 3"
      ],
      "execution_count": 0,
      "outputs": [
        {
          "output_type": "stream",
          "text": [
            "student\n",
            "[3, 4]\n",
            "d\n"
          ],
          "name": "stdout"
        }
      ]
    },
    {
      "cell_type": "markdown",
      "metadata": {
        "colab_type": "text",
        "id": "tbWWs6xUJpX9"
      },
      "source": [
        "To add elements to a list you can use the append() method. To remove elements from the list we use the remove()  method."
      ]
    },
    {
      "cell_type": "code",
      "metadata": {
        "colab_type": "code",
        "id": "nBOhUazuJpX_",
        "outputId": "358576cc-0d20-4731-99b8-a757e7aa618d",
        "colab": {
          "base_uri": "https://localhost:8080/",
          "height": 51
        }
      },
      "source": [
        "list1 = ['student', 'teacher', 1997, 2000]\n",
        "list1.append(3)\n",
        "print(list1)\n",
        "list1.remove('teacher')\n",
        "print(list1)"
      ],
      "execution_count": 0,
      "outputs": [
        {
          "output_type": "stream",
          "text": [
            "['student', 'teacher', 1997, 2000, 3]\n",
            "['student', 1997, 2000, 3]\n"
          ],
          "name": "stdout"
        }
      ]
    },
    {
      "cell_type": "markdown",
      "metadata": {
        "colab_type": "text",
        "id": "PVlcdWQSJpYK"
      },
      "source": [
        "These are some other useful functions:\n",
        "   \n",
        "    len(list): Gives the number of elements in a list.    \n",
        "    max(list): Returns item from the list with max value.  \n",
        "    min(list): Returns item from the list with min value."
      ]
    },
    {
      "cell_type": "code",
      "metadata": {
        "colab_type": "code",
        "id": "YIe7kcuVJpYM",
        "outputId": "86a9242c-1dc6-4d0e-d9a3-01808683b5bc",
        "colab": {
          "base_uri": "https://localhost:8080/",
          "height": 68
        }
      },
      "source": [
        "list2 = [1, 2, 3, 4, 5]\n",
        "print(len(list2))\n",
        "print(max(list2)) \n",
        "print(min(list2))\n",
        "#max() y min() devuelven el mayor/menor valor, no la posición en la que se encuentra."
      ],
      "execution_count": 0,
      "outputs": [
        {
          "output_type": "stream",
          "text": [
            "5\n",
            "5\n",
            "1\n"
          ],
          "name": "stdout"
        }
      ]
    },
    {
      "cell_type": "markdown",
      "metadata": {
        "id": "TeaGc92X_4pM",
        "colab_type": "text"
      },
      "source": [
        "Dicitonaries are a different type of iterable in which data is stored with a ``key:value`` format. Creating dictionaries is similar to creating lists except that we use curly brackets: {}."
      ]
    },
    {
      "cell_type": "code",
      "metadata": {
        "id": "29ZTQDP__63u",
        "colab_type": "code",
        "outputId": "90a0ec7f-5fe7-4a43-ac5c-712c0a9b1c56",
        "colab": {
          "base_uri": "https://localhost:8080/",
          "height": 34
        }
      },
      "source": [
        "my_dict = {\"key1\": 1, \"key2\": 2, \"key3\": 3}\n",
        "print(my_dict)"
      ],
      "execution_count": 0,
      "outputs": [
        {
          "output_type": "stream",
          "text": [
            "{'key1': 1, 'key2': 2, 'key3': 3}\n"
          ],
          "name": "stdout"
        }
      ]
    },
    {
      "cell_type": "markdown",
      "metadata": {
        "id": "xdsPgwp2__Dl",
        "colab_type": "text"
      },
      "source": [
        "In order to access a particular value in the dictionary we need to use the corresponding key:"
      ]
    },
    {
      "cell_type": "code",
      "metadata": {
        "id": "3kx-advOABwn",
        "colab_type": "code",
        "outputId": "e6fdfd3c-b3d8-4df0-d774-90aba130691b",
        "colab": {
          "base_uri": "https://localhost:8080/",
          "height": 34
        }
      },
      "source": [
        "print(my_dict[\"key2\"])"
      ],
      "execution_count": 0,
      "outputs": [
        {
          "output_type": "stream",
          "text": [
            "2\n"
          ],
          "name": "stdout"
        }
      ]
    },
    {
      "cell_type": "markdown",
      "metadata": {
        "id": "NB7ZTCUYAEDY",
        "colab_type": "text"
      },
      "source": [
        "If we want to display all the keys in a dictionary we can use the ``keys()`` method. Likewise we can view all the stored values in the dictionary by using  the _.values()_ method:"
      ]
    },
    {
      "cell_type": "code",
      "metadata": {
        "id": "iQDzNDq5AKVA",
        "colab_type": "code",
        "outputId": "63256b85-df7d-436c-eb54-8595842473a6",
        "colab": {
          "base_uri": "https://localhost:8080/",
          "height": 51
        }
      },
      "source": [
        "print(my_dict.keys())\n",
        "print(my_dict.values())"
      ],
      "execution_count": 0,
      "outputs": [
        {
          "output_type": "stream",
          "text": [
            "dict_keys(['key1', 'key2', 'key3'])\n",
            "dict_values([1, 2, 3])\n"
          ],
          "name": "stdout"
        }
      ]
    },
    {
      "cell_type": "markdown",
      "metadata": {
        "colab_type": "text",
        "id": "B6hBxARxJpYS"
      },
      "source": [
        "## 3. Flow control (with 'for' and 'if')"
      ]
    },
    {
      "cell_type": "markdown",
      "metadata": {
        "colab_type": "text",
        "id": "cAgs0aYWJpYT"
      },
      "source": [
        "As in other programming languages, python offers tools to loop through a piece of code several times, or to execute a code fragment when certain conditions are met. \n",
        "\n",
        "The conditional statements in Python are ``if``, ``elif`` and ``else``.\n",
        "\n",
        "Play around with the following example:"
      ]
    },
    {
      "cell_type": "code",
      "metadata": {
        "colab_type": "code",
        "id": "SFfp-TGAJpYV",
        "outputId": "0f841d05-2030-4737-b3e6-9b338add45cd",
        "colab": {
          "base_uri": "https://localhost:8080/",
          "height": 51
        }
      },
      "source": [
        "x = int(input('Please enter an integer: '))\n",
        "if x < 0:\n",
        "    x = 0\n",
        "    print('Negative changed to zero')\n",
        "elif x == 0:\n",
        "    print('Zero')\n",
        "elif x == 1:\n",
        "    print('Single')\n",
        "else:\n",
        "    print('More')"
      ],
      "execution_count": 0,
      "outputs": [
        {
          "output_type": "stream",
          "text": [
            "Please enter an integer: 0\n",
            "Zero\n"
          ],
          "name": "stdout"
        }
      ]
    },
    {
      "cell_type": "markdown",
      "metadata": {
        "colab_type": "text",
        "id": "W6CuGBpEJpYb"
      },
      "source": [
        "The above fragment also allows us to discuss some important characteristics of Python syntax:\n",
        "\n",
        "* Unlike other languages, Python does not require the use of the 'end' keyword to indicate that a given code block is finished. Instead, Python relies on indentation.\n",
        "\n",
        "* Indentation in Python is mandatory, and consists of 4 spaces (for first level indentation)\n",
        "\n",
        "* The condition lines conclude with ':', which are then followed by the indented blocks that will be executed only when the indicated conditions are satisfied.\n",
        "   \n",
        "The statement ``for`` lets you iterate over the items of any iterable (a list, a string, a dictionary... ), in the order that they appear."
      ]
    },
    {
      "cell_type": "code",
      "metadata": {
        "colab_type": "code",
        "id": "0qNG65aMJpYc",
        "outputId": "d90130e3-38c1-480b-b9e3-c21749d6ab1a",
        "colab": {
          "base_uri": "https://localhost:8080/",
          "height": 68
        }
      },
      "source": [
        "words = ['cat', 'window', 'open-course']\n",
        "for w in words:\n",
        "     print (w, len(w))"
      ],
      "execution_count": 0,
      "outputs": [
        {
          "output_type": "stream",
          "text": [
            "cat 3\n",
            "window 6\n",
            "open-course 11\n"
          ],
          "name": "stdout"
        }
      ]
    },
    {
      "cell_type": "code",
      "metadata": {
        "id": "MyUhY-e6AU3G",
        "colab_type": "code",
        "outputId": "a79fbb83-7620-4b56-d0e8-0e393d3bf10d",
        "colab": {
          "base_uri": "https://localhost:8080/",
          "height": 68
        }
      },
      "source": [
        "my_dict = {\"key1\": 10, \"key2\": 25, \"key3\": 30}\n",
        "for key in my_dict.keys():\n",
        "     print (key, my_dict[key])"
      ],
      "execution_count": 0,
      "outputs": [
        {
          "output_type": "stream",
          "text": [
            "key1 10\n",
            "key2 25\n",
            "key3 30\n"
          ],
          "name": "stdout"
        }
      ]
    },
    {
      "cell_type": "markdown",
      "metadata": {
        "colab_type": "text",
        "id": "j6frMLSzJpYh"
      },
      "source": [
        "The ``enumerate()`` command allows you to iterate over the elements of the sequence and have a counter over them as well."
      ]
    },
    {
      "cell_type": "code",
      "metadata": {
        "colab_type": "code",
        "id": "m8rpqZd3JpYl",
        "outputId": "d4c451ed-3d45-4518-e13c-aaaa800d9ccb",
        "colab": {
          "base_uri": "https://localhost:8080/",
          "height": 68
        }
      },
      "source": [
        "words = ['cat', 'window', 'open-course']\n",
        "for (i, w) in enumerate(words):\n",
        "     print ('element ' + str(i) + ' is ' + w)"
      ],
      "execution_count": 0,
      "outputs": [
        {
          "output_type": "stream",
          "text": [
            "element 0 is cat\n",
            "element 1 is window\n",
            "element 2 is open-course\n"
          ],
          "name": "stdout"
        }
      ]
    },
    {
      "cell_type": "markdown",
      "metadata": {
        "colab_type": "text",
        "id": "tWf5ct4k3CDz"
      },
      "source": [
        "Python is very expressive and flexible when it comes to list creation and manipulation. Check out this interesting block of code and try to figure out what it's doing:"
      ]
    },
    {
      "cell_type": "code",
      "metadata": {
        "colab_type": "code",
        "id": "lIWDact03HHX",
        "outputId": "4d404589-d376-4854-e356-881ca7682000",
        "colab": {
          "base_uri": "https://localhost:8080/",
          "height": 51
        }
      },
      "source": [
        "# Python one-liners are great:\n",
        "x = [1, 2, 3, 4, 5]\n",
        "y = [i**2 for i in x] # ** equivale a ^\n",
        "print('x = ', x, '\\ny = ', y)"
      ],
      "execution_count": 0,
      "outputs": [
        {
          "output_type": "stream",
          "text": [
            "x =  [1, 2, 3, 4, 5] \n",
            "y =  [1, 4, 9, 16, 25]\n"
          ],
          "name": "stdout"
        }
      ]
    },
    {
      "cell_type": "markdown",
      "metadata": {
        "colab_type": "text",
        "id": "JuTYztq7JpYo"
      },
      "source": [
        "## 4. File input and output operations"
      ]
    },
    {
      "cell_type": "markdown",
      "metadata": {
        "colab_type": "text",
        "id": "3-gsOU4FJpYp"
      },
      "source": [
        "First of all, you need to open a file with the open() function (if the file does not exist, the open() function will create it). "
      ]
    },
    {
      "cell_type": "code",
      "metadata": {
        "colab_type": "code",
        "id": "a5KvqplXJpYq",
        "colab": {}
      },
      "source": [
        "f = open('workfile', 'w')"
      ],
      "execution_count": 0,
      "outputs": []
    },
    {
      "cell_type": "markdown",
      "metadata": {
        "colab_type": "text",
        "id": "qu6CxTgbJpYw"
      },
      "source": [
        "The first argument is a string containing the filename. The second argument defines the mode in which the file will be used:\n",
        "\n",
        "    'r' : only to be read,\n",
        "    'w' : for only writing (an existing file with the same name would be erased),\n",
        "    'a' : the file is opened for appending; any data written to the file is automatically appended to the end. \n",
        "    'r+': opens the file for both reading and writing. \n",
        "\n",
        "If the mode argument is not included, 'r' will be assumed."
      ]
    },
    {
      "cell_type": "markdown",
      "metadata": {
        "colab_type": "text",
        "id": "g3EsbVk2JpYw"
      },
      "source": [
        "Use ``f.write(string)`` to write  the contents of a string to the file.  When you are done, do not forget to close the file:"
      ]
    },
    {
      "cell_type": "code",
      "metadata": {
        "colab_type": "code",
        "id": "Kd2R3qQZJpYy",
        "colab": {}
      },
      "source": [
        "f.write('This is a test\\n with 2 lines')\n",
        "f.close()"
      ],
      "execution_count": 0,
      "outputs": []
    },
    {
      "cell_type": "markdown",
      "metadata": {
        "colab_type": "text",
        "id": "YuqJ05c-JpY4"
      },
      "source": [
        "To read the content of a file, use the function ``f.read()``:"
      ]
    },
    {
      "cell_type": "code",
      "metadata": {
        "colab_type": "code",
        "id": "UIKH9WZIJpY4",
        "outputId": "4fd59df7-443b-49f6-a3f3-0126ec00d99e",
        "colab": {
          "base_uri": "https://localhost:8080/",
          "height": 51
        }
      },
      "source": [
        "f2 = open('workfile', 'r')\n",
        "text = f2.read()\n",
        "f2.close()\n",
        "print(text)"
      ],
      "execution_count": 0,
      "outputs": [
        {
          "output_type": "stream",
          "text": [
            "This is a test\n",
            " with 2 lines\n"
          ],
          "name": "stdout"
        }
      ]
    },
    {
      "cell_type": "markdown",
      "metadata": {
        "colab_type": "text",
        "id": "x6k7eYGtJpY7"
      },
      "source": [
        "You can also read line by line from the file identifier"
      ]
    },
    {
      "cell_type": "code",
      "metadata": {
        "colab_type": "code",
        "id": "4NWi8fRGJpY8",
        "outputId": "14c28f87-6a26-4ff1-a011-5fcef1474205",
        "colab": {
          "base_uri": "https://localhost:8080/",
          "height": 68
        }
      },
      "source": [
        "f2 = open('workfile', 'r')\n",
        "for line in f2:\n",
        "    print(line)\n",
        "\n",
        "f2.close()"
      ],
      "execution_count": 0,
      "outputs": [
        {
          "output_type": "stream",
          "text": [
            "This is a test\n",
            "\n",
            " with 2 lines\n"
          ],
          "name": "stdout"
        }
      ]
    },
    {
      "cell_type": "markdown",
      "metadata": {
        "colab_type": "text",
        "id": "ezs1cI4UJpY-"
      },
      "source": [
        "## 5. Importing modules"
      ]
    },
    {
      "cell_type": "markdown",
      "metadata": {
        "colab_type": "text",
        "id": "JcZJr_Z-JpY_"
      },
      "source": [
        "Python lets you define modules, which are files consisting of Python code. A module can define functions, classes and variables.\n",
        "\n",
        "Most Python distributions already include the most popular modules with predefined libraries which make our programmer lives easier. Some well-known libraries are: time, sys, os, numpy, etc.\n",
        "    \n",
        "There are several ways to import a library:"
      ]
    },
    {
      "cell_type": "markdown",
      "metadata": {
        "colab_type": "text",
        "id": "f0oqiJfgJpZA"
      },
      "source": [
        "1) Import all the contents of the library: ``import lib_name``.\n",
        "\n",
        "Note: You have to call these methods as part of the library."
      ]
    },
    {
      "cell_type": "code",
      "metadata": {
        "colab_type": "code",
        "id": "MOeihKoGJpZB",
        "outputId": "98b242bb-7d39-4441-a593-02210dc72a45",
        "colab": {
          "base_uri": "https://localhost:8080/",
          "height": 51
        }
      },
      "source": [
        "import time\n",
        "print(time.time())  # returns the current processor time in seconds\n",
        "time.sleep(2) # suspends execution for the given number of seconds\n",
        "print(time.time()) # returns the current processor time in seconds again!!!"
      ],
      "execution_count": 0,
      "outputs": [
        {
          "output_type": "stream",
          "text": [
            "1568728178.8800182\n",
            "1568728180.8830893\n"
          ],
          "name": "stdout"
        }
      ]
    },
    {
      "cell_type": "markdown",
      "metadata": {
        "colab_type": "text",
        "id": "wiMG-7eeJpZE"
      },
      "source": [
        "2) Define a short name to use the library: ``import lib_name as lib``.\n"
      ]
    },
    {
      "cell_type": "code",
      "metadata": {
        "colab_type": "code",
        "id": "VznvoUmiJpZH",
        "outputId": "50f63a74-2e8b-4d82-b323-cdd5cd0dbd2b",
        "colab": {
          "base_uri": "https://localhost:8080/",
          "height": 34
        }
      },
      "source": [
        "import time as t\n",
        "print(t.time())"
      ],
      "execution_count": 0,
      "outputs": [
        {
          "output_type": "stream",
          "text": [
            "1568728195.0248628\n"
          ],
          "name": "stdout"
        }
      ]
    },
    {
      "cell_type": "markdown",
      "metadata": {
        "colab_type": "text",
        "id": "eA5Sn_7CJpZJ"
      },
      "source": [
        "3) Import only some elements of the library using the ``from`` statement.\n",
        "\n",
        "Note: now you have to use the methods directly."
      ]
    },
    {
      "cell_type": "code",
      "metadata": {
        "colab_type": "code",
        "id": "j1RhwBmwJpZK",
        "outputId": "a40d5912-1e77-4e84-b45f-163488fa28d8",
        "colab": {
          "base_uri": "https://localhost:8080/",
          "height": 51
        }
      },
      "source": [
        "from time import time, sleep\n",
        "print(time())\n",
        "sleep(2)\n",
        "print(time())"
      ],
      "execution_count": 0,
      "outputs": [
        {
          "output_type": "stream",
          "text": [
            "1568728221.3917325\n",
            "1568728223.3940475\n"
          ],
          "name": "stdout"
        }
      ]
    },
    {
      "cell_type": "markdown",
      "metadata": {
        "colab_type": "text",
        "id": "ibvKIbQIu_Ca"
      },
      "source": [
        "## 6. User defined functions"
      ]
    },
    {
      "cell_type": "markdown",
      "metadata": {
        "colab_type": "text",
        "id": "x3RpGkZLvFs3"
      },
      "source": [
        "A function is a block of organized, reusable code that is used to perform a single, related action. Functions provide better modularity and a high degree of code reusing.\n",
        "\n",
        "As we have seen, Python gives us many built-in functions like print(), etc. but you can also create your own.\n",
        "\n",
        "### Defining a function:\n",
        "\n",
        "-  Function blocks begin with the keyword ``def`` followed by the function name and parentheses ( ( ) ).\n",
        "\n",
        "-  Any input parameters or arguments should be placed within these parentheses. You can also define parameters inside these parentheses.\n",
        "\n",
        "-  The first statement of a function can be an optional statement - the documentation string of the function or docstring. Docstring blocks start and ed with triple quotes (``\"\"\"``).\n",
        "\n",
        "-  The code block within every function starts with a colon (``:``) and is indented.\n",
        "\n",
        "-  The statement ``return [expression]`` exits a function, optionally passing back an expression to the caller. A return statement with no arguments is the same as ``return None``."
      ]
    },
    {
      "cell_type": "code",
      "metadata": {
        "colab_type": "code",
        "id": "nNQ408lXw6Pg",
        "outputId": "3807c2a9-722f-4c8a-c544-dd9d249864e7",
        "colab": {
          "base_uri": "https://localhost:8080/",
          "height": 68
        }
      },
      "source": [
        "# Example of a function:\n",
        "\n",
        "def add_five(a): #No es necesario indicar el tipo que devuelve\n",
        "  \"\"\"This function adds the number five to its input argument.\"\"\"\n",
        "  return a + 5\n",
        "\n",
        "# Let's try it out!\n",
        "x = int(input('Please enter an integer: '))\n",
        "print('Our add_five function is super effective at adding fives:')\n",
        "print(x, '+ 5 =', add_five(x))"
      ],
      "execution_count": 0,
      "outputs": [
        {
          "output_type": "stream",
          "text": [
            "Please enter an integer: 2\n",
            "Our add_five function is super effective at adding fives:\n",
            "2 + 5 = 7\n"
          ],
          "name": "stdout"
        }
      ]
    },
    {
      "cell_type": "markdown",
      "metadata": {
        "colab_type": "text",
        "id": "h7ndVcC7fpns"
      },
      "source": [
        "Now try it yourself! Write a function called my_factorial that computes the fatorial of a given number. If you're feeling particularly brave today, you can try writing it recursively, since Python obviously supports recursion. Remember that the factorial of 0 is 1 and the factorial of a negative number is undefined."
      ]
    },
    {
      "cell_type": "code",
      "metadata": {
        "colab_type": "code",
        "id": "MNWzDaxkfo5Y",
        "outputId": "2468e0ec-176d-4263-f27a-0eeeff8dcf5c",
        "colab": {
          "base_uri": "https://localhost:8080/",
          "height": 68
        }
      },
      "source": [
        "# Write a function that computes the factorial of a given number.\n",
        "\n",
        "# <FILL IN>\n",
        "def my_factorial(x):\n",
        "  \"\"\"This function returns the factorial of the input argument.\"\"\"\n",
        "  if x < 0:\n",
        "    return 'undefined'\n",
        "  elif x == 0:\n",
        "    return 1\n",
        "  else:\n",
        "    a=1\n",
        "    for i in range(1,x+1):\n",
        "      a=a*i\n",
        "    return a\n",
        "  \n",
        "# Let's try it out!\n",
        "from math import factorial\n",
        "x = int(input('Please enter an integer: '))\n",
        "if my_factorial(x) == factorial(x):\n",
        "  print(x, '! = ', my_factorial(x))\n",
        "  print('It works!')\n",
        "else:\n",
        "  print(\"Something's not working...\" )"
      ],
      "execution_count": 0,
      "outputs": [
        {
          "output_type": "stream",
          "text": [
            "Please enter an integer: 5\n",
            "5 ! =  120\n",
            "It works!\n"
          ],
          "name": "stdout"
        }
      ]
    }
  ]
}