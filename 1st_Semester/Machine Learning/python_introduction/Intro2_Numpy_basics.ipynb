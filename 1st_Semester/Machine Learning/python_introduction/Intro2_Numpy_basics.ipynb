{
  "nbformat": 4,
  "nbformat_minor": 0,
  "metadata": {
    "colab": {
      "name": "Intro2_Numpy_basics.ipynb",
      "provenance": [],
      "collapsed_sections": []
    },
    "kernelspec": {
      "display_name": "Python 2",
      "language": "python",
      "name": "python2"
    },
    "language_info": {
      "codemirror_mode": {
        "name": "ipython",
        "version": 2
      },
      "file_extension": ".py",
      "mimetype": "text/x-python",
      "name": "python",
      "nbconvert_exporter": "python",
      "pygments_lexer": "ipython2",
      "version": "2.7.12"
    }
  },
  "cells": [
    {
      "cell_type": "markdown",
      "metadata": {
        "colab_type": "text",
        "id": "JNaOGgkt9n9v"
      },
      "source": [
        "\n",
        "# Exercises about Numpy \n",
        "Notebook version: \n",
        "   * 1.0 (Mar 15, 2016) - First version - UTAD version\n",
        "   * 1.1 (Sep 12, 2017) - Python3 compatible\n",
        "   * 1.2 (Sep 3, 2018) - Adapted to TMDE (only numpy exercises)\n",
        "   * 1.3 (Sep 4, 2019) - Spelling and structure revision.\n",
        "\n",
        "Authors: Jerónimo Arenas García (jeronimo.arenas@uc3m.es), Jesús Cid Sueiro (jcid@tsc.uc3m.es), Vanessa Gómez Verdejo (vanessa@tsc.uc3m.es), Óscar García Hinde (oghinnde@tsc.uc3m.es), Simón Roca Sotelo (sroca@tsc.uc3m.es)"
      ]
    },
    {
      "cell_type": "markdown",
      "metadata": {
        "colab_type": "text",
        "id": "FiLmmt369n-D"
      },
      "source": [
        "This notebook is an introduction to the Numpy library. Numpy adds support for large, multi-dimensional arrays and matrices, along with a large collection of high-level mathematical functions to operate on these arrays. Here we will learn the basics on how to work with numpy arrays, and some of the most common operations which are needed when working with these data structures."
      ]
    },
    {
      "cell_type": "markdown",
      "metadata": {
        "colab_type": "text",
        "id": "k5idaAwG90iS"
      },
      "source": [
        "# 1. Importing numpy"
      ]
    },
    {
      "cell_type": "code",
      "metadata": {
        "colab_type": "code",
        "id": "48OgrbjVxBE2",
        "colab": {}
      },
      "source": [
        "# Import numpy library\n",
        "\n",
        "import numpy as np"
      ],
      "execution_count": 0,
      "outputs": []
    },
    {
      "cell_type": "markdown",
      "metadata": {
        "colab_type": "text",
        "id": "Y33M-qyx9n-G"
      },
      "source": [
        "# 2. Numpy exercises\n",
        "\n",
        "## 2.1. Creating numpy arrays \n",
        "\n",
        "The following code fragment defines variable `x` as a list of 4 integers, you can check that by printing the type of any element of `x`. "
      ]
    },
    {
      "cell_type": "code",
      "metadata": {
        "colab_type": "code",
        "id": "knpY11S-9n-J",
        "outputId": "cf4b36eb-6db3-4399-e87d-0937b5875c44",
        "colab": {
          "base_uri": "https://localhost:8080/",
          "height": 34
        }
      },
      "source": [
        "x = [5, 4, 3, 4]\n",
        "print(type(x[0]))\n"
      ],
      "execution_count": 0,
      "outputs": [
        {
          "output_type": "stream",
          "text": [
            "<type 'int'>\n"
          ],
          "name": "stdout"
        }
      ]
    },
    {
      "cell_type": "markdown",
      "metadata": {
        "colab_type": "text",
        "id": "uvdon6es1tgG"
      },
      "source": [
        "If you want to apply a transformation over each element of this list you have to build a loop and operate over each element. Complete the following code to create a new list with the same elements as x, but where each element of the list is a float (you can use the `float()` function)."
      ]
    },
    {
      "cell_type": "code",
      "metadata": {
        "colab_type": "code",
        "id": "ANjEN9iK2Hu3",
        "outputId": "cef009e4-06bc-4adb-9f6c-14892d37be91",
        "colab": {
          "base_uri": "https://localhost:8080/",
          "height": 51
        }
      },
      "source": [
        "# Create a list of floats containing the same elements as in x\n",
        "\n",
        "x_f = []\n",
        "for element in x:\n",
        "  x_f.append(float(element))\n",
        "  \n",
        "print(x_f)\n",
        "print(type(x_f[0]))"
      ],
      "execution_count": 0,
      "outputs": [
        {
          "output_type": "stream",
          "text": [
            "[5.0, 4.0, 3.0, 4.0]\n",
            "<type 'float'>\n"
          ],
          "name": "stdout"
        }
      ]
    },
    {
      "cell_type": "markdown",
      "metadata": {
        "colab_type": "text",
        "id": "x3JD1Xx93Meu"
      },
      "source": [
        "The output should be:\n",
        "```\n",
        "[5.0, 4.0, 3.0, 4.0]\n",
        "<class 'float'>\n",
        "```"
      ]
    },
    {
      "cell_type": "markdown",
      "metadata": {
        "colab_type": "text",
        "id": "pTxKU3g89n-b"
      },
      "source": [
        "Numpy is a python library that lets you work with data vectors and matrices (we will call them numpy arrays) and directly apply operations over these arrays without the need to operate element by element.\n",
        "\n",
        "Numpy arrays can be defined directly using methods such as `np.arange()`, `np.ones()`, `np.zeros()`, `np.eye()`, as well as random number generators. Alternatively, you can easily generate them from python lists (or lists of lists) containing elements of a numerical type by using `np.array(my_list)`.\n",
        "\n",
        "You can easily check the shape of any numpy array with the property `.shape`."
      ]
    },
    {
      "cell_type": "code",
      "metadata": {
        "colab_type": "code",
        "id": "4ysbTHA19n-d",
        "outputId": "d7594242-b868-4a27-d5c4-96b902f78c71",
        "colab": {
          "base_uri": "https://localhost:8080/",
          "height": 204
        }
      },
      "source": [
        "# Numpy arrays can be created from numeric lists or using different numpy methods\n",
        "x = np.array(x_f)\n",
        "print(x)\n",
        "y = np.arange(8) + 1 #Con el +1 tenemos valores de 1 a 8 en lugar de 0 a 7\n",
        "print(y)\n",
        "z = np.array([[1, 2], [2, 1]])\n",
        "print(z)\n",
        "\n",
        "# The arange() function generates vectors of equally spaced numbers. We can \n",
        "# specify start and stop positions as well as the step length (the steps don't \n",
        "# need to be integers!):\n",
        "print('A vector that goes from 2 to 8 in steps of 2: ', np.arange(2, 9, 2))\n",
        "\n",
        "# Numpy also has a linspace() function that works exactly like its Matlab \n",
        "# counterpart:\n",
        "print('\\nA vector of length 5 that spans from 0 to 1 in constant increments:\\n', \n",
        "      np.linspace(0, 1, 5))\n",
        "\n",
        "# Check the different data types involved\n",
        "print('\\nThe type of variable x_f is ', type(x_f))\n",
        "print('The type of variable x is ', type(x))\n",
        "\n",
        "# Print the shapes of the numpy arrays\n",
        "print('\\nThe variable x has shape ', x.shape)\n",
        "print('The variable y has shape ', y.shape)\n",
        "print('The variable z has shape ', z.shape)"
      ],
      "execution_count": 0,
      "outputs": [
        {
          "output_type": "stream",
          "text": [
            "[5. 4. 3. 4.]\n",
            "[1 2 3 4 5 6 7 8]\n",
            "[[1 2]\n",
            " [2 1]]\n",
            "('A vector that goes from 2 to 8 in steps of 2: ', array([2, 4, 6, 8]))\n",
            "('\\nA vector of length 5 that spans from 0 to 1 in constant increments:\\n', array([0.  , 0.25, 0.5 , 0.75, 1.  ]))\n",
            "('\\nThe type of variable x_f is ', <type 'list'>)\n",
            "('The type of variable x is ', <type 'numpy.ndarray'>)\n",
            "('\\nThe variable x has shape ', (4,))\n",
            "('The variable y has shape ', (8,))\n",
            "('The variable z has shape ', (2, 2))\n"
          ],
          "name": "stdout"
        }
      ]
    },
    {
      "cell_type": "markdown",
      "metadata": {
        "colab_type": "text",
        "id": "B9jUsGDV8mGu"
      },
      "source": [
        "Note: Compare the shape of x and y with the shape of z and note the difference between 1-D and N-D numpy arrays (`ndarrays`). We will later review this issue in detail."
      ]
    },
    {
      "cell_type": "markdown",
      "metadata": {
        "colab_type": "text",
        "id": "h2C1DLO5yt6g"
      },
      "source": [
        "We can also convert a numpy array or matrix into a python list with the method `np.tolist()`."
      ]
    },
    {
      "cell_type": "code",
      "metadata": {
        "colab_type": "code",
        "id": "ZYkijKLfy2eU",
        "outputId": "52b07b81-6ef8-486d-9f1d-dd3d6964f903",
        "colab": {
          "base_uri": "https://localhost:8080/",
          "height": 119
        }
      },
      "source": [
        "my_array = np.arange(9).reshape((3, 3))\n",
        "print(my_array)\n",
        "print('the type is: ', type(my_array))\n",
        "\n",
        "# Convert my_array to list\n",
        "\n",
        "my_array_list =  my_array.tolist()\n",
        "print('\\n', my_array_list)\n",
        "print('the type is: ',type(my_array_list))"
      ],
      "execution_count": 0,
      "outputs": [
        {
          "output_type": "stream",
          "text": [
            "[[0 1 2]\n",
            " [3 4 5]\n",
            " [6 7 8]]\n",
            "('the type is: ', <type 'numpy.ndarray'>)\n",
            "('\\n', [[0, 1, 2], [3, 4, 5], [6, 7, 8]])\n",
            "('the type is: ', <type 'list'>)\n"
          ],
          "name": "stdout"
        }
      ]
    },
    {
      "cell_type": "markdown",
      "metadata": {
        "colab_type": "text",
        "id": "muEkQES76Umz"
      },
      "source": [
        "Complete the following exercises:"
      ]
    },
    {
      "cell_type": "code",
      "metadata": {
        "colab_type": "code",
        "id": "wB8snyVZ7GTt",
        "outputId": "70046302-1203-4a1f-a3d6-54e9e347ed25",
        "colab": {
          "base_uri": "https://localhost:8080/",
          "height": 425
        }
      },
      "source": [
        "# 1. Define a new 2x3 array named my_array with [1, 2, 3] in the first row and \n",
        "# [4, 5, 6] in the second. Check the dimension of the array.\n",
        "my_array = np.arange(6) +1\n",
        "my_array = my_array.reshape(2,3)\n",
        "print(my_array)\n",
        "print('Its shape is: ', np.shape(my_array))\n",
        "\n",
        "#2. Define a new 3x4 array named my_zeros with all its elements to zero\n",
        "my_zeros = np.zeros((3,4))\n",
        "print('A 3x4 vector of zeros:') \n",
        "print(my_zeros)\n",
        "print('Its shape is: ', np.shape(my_zeros))\n",
        "\n",
        "#3. Define a new 4x2 array named my_ones with all its elements to one\n",
        "my_ones = np.ones((4,2))\n",
        "print('A 4x2 vector of ones:') \n",
        "print(my_ones)\n",
        "print('Its shape is: ', np.shape(my_ones))\n",
        "\n",
        "#4. Modify the dimensions of my_ones to a 2x4 array using command np.reshape()\n",
        "my_ones2 = my_ones.reshape(2,4)\n",
        "print('A 2x4 vector of ones:') \n",
        "print(my_ones2)\n",
        "print('Its shape is: ', np.shape(my_ones2))\n",
        "\n",
        "#5. Define a new 4x4 identity array named my_eye \n",
        "my_eye = np.identity(4)\n",
        "print('A 4x4 identity vector:') \n",
        "print(my_eye)\n",
        "print('Its shape is: ', np.shape(my_eye))"
      ],
      "execution_count": 0,
      "outputs": [
        {
          "output_type": "stream",
          "text": [
            "[[1 2 3]\n",
            " [4 5 6]]\n",
            "('Its shape is: ', (2, 3))\n",
            "A 3x4 vector of zeros:\n",
            "[[0. 0. 0. 0.]\n",
            " [0. 0. 0. 0.]\n",
            " [0. 0. 0. 0.]]\n",
            "('Its shape is: ', (3, 4))\n",
            "A 4x2 vector of ones:\n",
            "[[1. 1.]\n",
            " [1. 1.]\n",
            " [1. 1.]\n",
            " [1. 1.]]\n",
            "('Its shape is: ', (4, 2))\n",
            "A 2x4 vector of ones:\n",
            "[[1. 1. 1. 1.]\n",
            " [1. 1. 1. 1.]]\n",
            "('Its shape is: ', (2, 4))\n",
            "A 4x4 identity vector:\n",
            "[[1. 0. 0. 0.]\n",
            " [0. 1. 0. 0.]\n",
            " [0. 0. 1. 0.]\n",
            " [0. 0. 0. 1.]]\n",
            "('Its shape is: ', (4, 4))\n"
          ],
          "name": "stdout"
        }
      ]
    },
    {
      "cell_type": "markdown",
      "metadata": {
        "colab_type": "text",
        "id": "RTDRlKCrSU2_"
      },
      "source": [
        "The output should be:\n",
        "```\n",
        "[[1 2 3]\n",
        " [4 5 6]]\n",
        "Its shape is:  (2, 3)\n",
        "\n",
        "A 3x4 vector of zeros:\n",
        "[[0. 0. 0. 0.]\n",
        " [0. 0. 0. 0.]\n",
        " [0. 0. 0. 0.]]\n",
        "A 4x2 vector of ones:\n",
        "[[1. 1.]\n",
        " [1. 1.]\n",
        " [1. 1.]\n",
        " [1. 1.]]\n",
        "A 2x4 vector of ones:\n",
        "[[1. 1. 1. 1.]\n",
        " [1. 1. 1. 1.]]\n",
        "```"
      ]
    },
    {
      "cell_type": "markdown",
      "metadata": {
        "colab_type": "text",
        "id": "aowqd4X9YtpC"
      },
      "source": [
        "## 2.2 Numpy operations"
      ]
    },
    {
      "cell_type": "markdown",
      "metadata": {
        "colab_type": "text",
        "id": "EQD1XlRribiu"
      },
      "source": [
        "We can perform all the usual numerical and matrix operations with numpy. In the case of matrix addition and subtraction, we can use the common \"`+`\" or \"`-`\" operators:"
      ]
    },
    {
      "cell_type": "code",
      "metadata": {
        "colab_type": "code",
        "id": "UYeFor2L7orM",
        "outputId": "e13ec0d6-641c-42d5-96d5-188367f9a6d9",
        "colab": {
          "base_uri": "https://localhost:8080/",
          "height": 153
        }
      },
      "source": [
        "x1 = np.arange(9).reshape((3, 3))\n",
        "x2 = np.ones((3, 3))\n",
        "result = x1 + x2\n",
        "print('x1:\\n', x1, '\\n\\nx2:\\n', x2)\n",
        "print('\\nAddition of x1 and x2 using the + operator:\\n', result)"
      ],
      "execution_count": 0,
      "outputs": [
        {
          "output_type": "stream",
          "text": [
            "('x1:\\n', array([[0, 1, 2],\n",
            "       [3, 4, 5],\n",
            "       [6, 7, 8]]), '\\n\\nx2:\\n', array([[1., 1., 1.],\n",
            "       [1., 1., 1.],\n",
            "       [1., 1., 1.]]))\n",
            "('\\nAddition of x1 and x2 using the + operator:\\n', array([[1., 2., 3.],\n",
            "       [4., 5., 6.],\n",
            "       [7., 8., 9.]]))\n"
          ],
          "name": "stdout"
        }
      ]
    },
    {
      "cell_type": "markdown",
      "metadata": {
        "colab_type": "text",
        "id": "MPK3XDzm75vD"
      },
      "source": [
        "However, numpy provides us with built-in functions that guarantee that any errors and exceptions are handled properly:"
      ]
    },
    {
      "cell_type": "code",
      "metadata": {
        "colab_type": "code",
        "id": "MU8ZWvzrYhB8",
        "outputId": "465a5bcf-6f48-47d7-98cb-9768b96b1912",
        "colab": {
          "base_uri": "https://localhost:8080/",
          "height": 204
        }
      },
      "source": [
        "# We can add two arrays:\n",
        "x1 = np.arange(9).reshape((3, 3))\n",
        "x2 = np.ones((3, 3))\n",
        "result = np.add(x1, x2)\n",
        "print('x1:\\n', x1, '\\n\\nx2:\\n', x2)\n",
        "print('\\nAddition of x1 and x2 using built-in functions:\\n', result)\n",
        "\n",
        "# Or compute the difference:\n",
        "result = np.subtract(x1, x2)\n",
        "print('\\nSubtraction of x1 and x2 using built-in functions:\\n', result)"
      ],
      "execution_count": 0,
      "outputs": [
        {
          "output_type": "stream",
          "text": [
            "('x1:\\n', array([[0, 1, 2],\n",
            "       [3, 4, 5],\n",
            "       [6, 7, 8]]), '\\n\\nx2:\\n', array([[1., 1., 1.],\n",
            "       [1., 1., 1.],\n",
            "       [1., 1., 1.]]))\n",
            "('\\nAddition of x1 and x2 using built-in functions:\\n', array([[1., 2., 3.],\n",
            "       [4., 5., 6.],\n",
            "       [7., 8., 9.]]))\n",
            "('\\nSubtraction of x1 and x2 using built-in functions:\\n', array([[-1.,  0.,  1.],\n",
            "       [ 2.,  3.,  4.],\n",
            "       [ 5.,  6.,  7.]]))\n"
          ],
          "name": "stdout"
        }
      ]
    },
    {
      "cell_type": "markdown",
      "metadata": {
        "colab_type": "text",
        "id": "WV742YUi8ULx"
      },
      "source": [
        "Whether you use the basic operators or the built-in functions will depend on the situation.\n",
        "\n",
        "We can also add or subtract column or row vectors from arrays. Again, both the basic operators and the built in functions will perform the same operations. Unlike in Matlab, where this operation will raise an error, Python will automatically execute it row by row or column by column as appropriate:"
      ]
    },
    {
      "cell_type": "code",
      "metadata": {
        "colab_type": "code",
        "id": "KHQ9zZgq8TPN",
        "outputId": "59018af7-403d-4592-93f4-24b5bac6b641",
        "colab": {
          "base_uri": "https://localhost:8080/",
          "height": 204
        }
      },
      "source": [
        "# We can add or subtract row and column vectors:\n",
        "row_vect = np.ones((1, 3))\n",
        "col_vect = np.ones((3, 1))\n",
        "result = np.add(x1, row_vect)\n",
        "print('x1:\\n', x1, '\\n\\nrow_vect:\\n', row_vect, '\\n\\ncol_vect:\\n', col_vect)\n",
        "print('\\nAddition of a row vector:\\n', result)\n",
        "result = np.add(x1, col_vect)\n",
        "print('\\nAddition of a column vector:\\n', result)"
      ],
      "execution_count": 0,
      "outputs": [
        {
          "output_type": "stream",
          "text": [
            "('x1:\\n', array([[0, 1, 2],\n",
            "       [3, 4, 5],\n",
            "       [6, 7, 8]]), '\\n\\nrow_vect:\\n', array([[1., 1., 1.]]), '\\n\\ncol_vect:\\n', array([[1.],\n",
            "       [1.],\n",
            "       [1.]]))\n",
            "('\\nAddition of a row vector:\\n', array([[1., 2., 3.],\n",
            "       [4., 5., 6.],\n",
            "       [7., 8., 9.]]))\n",
            "('\\nAddition of a column vector:\\n', array([[1., 2., 3.],\n",
            "       [4., 5., 6.],\n",
            "       [7., 8., 9.]]))\n"
          ],
          "name": "stdout"
        }
      ]
    },
    {
      "cell_type": "markdown",
      "metadata": {
        "colab_type": "text",
        "id": "yyvsXDJX8uNh"
      },
      "source": [
        "Another key difference with Matlab is that the \"`*`\" operator won't give us matrix multiplication. It will instead compute an element-wise multiplication. Again, numpy has a built-in function for this purpose that will guarantee propper handling of errors:"
      ]
    },
    {
      "cell_type": "code",
      "metadata": {
        "colab_type": "code",
        "id": "eNmOdlU2peHo",
        "outputId": "3637e2df-b7ca-4cb1-ac57-9accf415e260",
        "colab": {
          "base_uri": "https://localhost:8080/",
          "height": 204
        }
      },
      "source": [
        "# We can perform element-wise multiplication by using the * operator:\n",
        "x1 = np.arange(9).reshape((3, 3))\n",
        "x2 = np.ones((3, 3)) * 2 # a 3x3 array with 2s in every cell\n",
        "result = x1 * x2\n",
        "print('x1:\\n', x1, '\\n\\nx2:\\n', x2)\n",
        "print('\\nElement-wise multiplication of x1 and x2 using the * operator:\\n', result)\n",
        "\n",
        "# or by using the built-in numpy function:\n",
        "result = np.multiply(x1, x2)\n",
        "print('\\nElement-wise multiplication of x1 and x2 using built-in functions:\\n', result)\n",
        "\n"
      ],
      "execution_count": 0,
      "outputs": [
        {
          "output_type": "stream",
          "text": [
            "('x1:\\n', array([[0, 1, 2],\n",
            "       [3, 4, 5],\n",
            "       [6, 7, 8]]), '\\n\\nx2:\\n', array([[2., 2., 2.],\n",
            "       [2., 2., 2.],\n",
            "       [2., 2., 2.]]))\n",
            "('\\nElement-wise multiplication of x1 and x2 using the * operator:\\n', array([[ 0.,  2.,  4.],\n",
            "       [ 6.,  8., 10.],\n",
            "       [12., 14., 16.]]))\n",
            "('\\nElement-wise multiplication of x1 and x2 using built-in functions:\\n', array([[ 0.,  2.,  4.],\n",
            "       [ 6.,  8., 10.],\n",
            "       [12., 14., 16.]]))\n"
          ],
          "name": "stdout"
        }
      ]
    },
    {
      "cell_type": "markdown",
      "metadata": {
        "colab_type": "text",
        "id": "WaC-PS8j9Y8N"
      },
      "source": [
        "Numpy also gives us functions to perform matrix multiplications and dot products."
      ]
    },
    {
      "cell_type": "code",
      "metadata": {
        "colab_type": "code",
        "id": "0FHbClEM9ZOM",
        "outputId": "9a96dc83-b47b-4af0-feb5-ec62a56a3d5e",
        "colab": {
          "base_uri": "https://localhost:8080/",
          "height": 187
        }
      },
      "source": [
        "# We can perform matrix multiplication:\n",
        "x1 = np.arange(9).reshape((3, 3))\n",
        "x2 = np.ones((3, 3)) * 2 # a 3x3 array with 2s in every cell\n",
        "result = np.matmul(x1, x2)\n",
        "print('x1:\\n', x1, '\\n\\nx2:\\n', x2)\n",
        "print('\\nProduct of x1 and x2:\\n', result)\n",
        "\n",
        "# Or the dot product between vectors:\n",
        "v1 = np.arange(4)\n",
        "v2 = np.arange(3, 7)\n",
        "result = np.dot(v1, v2)\n",
        "print('\\nv1:\\n', v1, '\\n\\nv2:\\n', v2)\n",
        "print('\\nDot product of v1 and v2:\\n', result)"
      ],
      "execution_count": 0,
      "outputs": [
        {
          "output_type": "stream",
          "text": [
            "('x1:\\n', array([[0, 1, 2],\n",
            "       [3, 4, 5],\n",
            "       [6, 7, 8]]), '\\n\\nx2:\\n', array([[2., 2., 2.],\n",
            "       [2., 2., 2.],\n",
            "       [2., 2., 2.]]))\n",
            "('\\nProduct of x1 and x2:\\n', array([[ 6.,  6.,  6.],\n",
            "       [24., 24., 24.],\n",
            "       [42., 42., 42.]]))\n",
            "('\\nv1:\\n', array([0, 1, 2, 3]), '\\n\\nv2:\\n', array([3, 4, 5, 6]))\n",
            "('\\nDot product of v1 and v2:\\n', 32)\n"
          ],
          "name": "stdout"
        }
      ]
    },
    {
      "cell_type": "markdown",
      "metadata": {
        "colab_type": "text",
        "id": "OCQ6p7aQ9k2S"
      },
      "source": [
        "Note that the `np.dot()` function is very powerful and can perform a number of different operations depending on the nature of the input arguments. For example, if we give it a pair of matrices of adequate dimensions, it will perform the same operation as `np.matmul()`."
      ]
    },
    {
      "cell_type": "code",
      "metadata": {
        "colab_type": "code",
        "id": "Bqq_7toes2bw",
        "outputId": "2fc5daa4-b34f-4909-a34e-9443f800783f",
        "colab": {
          "base_uri": "https://localhost:8080/",
          "height": 1000
        }
      },
      "source": [
        "x1 = np.arange(9).reshape((3, 3))\n",
        "x2 = np.ones((3, 3)) * 2 # a 3x3 array with 2s in every cell\n",
        "result = np.matmul(x1, x2)\n",
        "print('x1:\\n', x1, '\\n\\nx2:\\n', x2)\n",
        "print('\\nProduct of x1 and x2 using np.matmul():\\n', result)\n",
        "\n",
        "result = np.dot(x1, x2)\n",
        "print('\\nProduct of x1 and x2 using np.dot():\\n', result, '\\n')\n",
        "\n",
        "# Read the np.dot() documentation for more information:\n",
        "help(np.dot)"
      ],
      "execution_count": 0,
      "outputs": [
        {
          "output_type": "stream",
          "text": [
            "('x1:\\n', array([[0, 1, 2],\n",
            "       [3, 4, 5],\n",
            "       [6, 7, 8]]), '\\n\\nx2:\\n', array([[2., 2., 2.],\n",
            "       [2., 2., 2.],\n",
            "       [2., 2., 2.]]))\n",
            "('\\nProduct of x1 and x2 using np.matmul():\\n', array([[ 6.,  6.,  6.],\n",
            "       [24., 24., 24.],\n",
            "       [42., 42., 42.]]))\n",
            "('\\nProduct of x1 and x2 using np.dot():\\n', array([[ 6.,  6.,  6.],\n",
            "       [24., 24., 24.],\n",
            "       [42., 42., 42.]]), '\\n')\n",
            "Help on built-in function dot in module numpy:\n",
            "\n",
            "dot(...)\n",
            "    dot(a, b, out=None)\n",
            "    \n",
            "    Dot product of two arrays. Specifically,\n",
            "    \n",
            "    - If both `a` and `b` are 1-D arrays, it is inner product of vectors\n",
            "      (without complex conjugation).\n",
            "    \n",
            "    - If both `a` and `b` are 2-D arrays, it is matrix multiplication,\n",
            "      but using :func:`matmul` or ``a @ b`` is preferred.\n",
            "    \n",
            "    - If either `a` or `b` is 0-D (scalar), it is equivalent to :func:`multiply`\n",
            "      and using ``numpy.multiply(a, b)`` or ``a * b`` is preferred.\n",
            "    \n",
            "    - If `a` is an N-D array and `b` is a 1-D array, it is a sum product over\n",
            "      the last axis of `a` and `b`.\n",
            "    \n",
            "    - If `a` is an N-D array and `b` is an M-D array (where ``M>=2``), it is a\n",
            "      sum product over the last axis of `a` and the second-to-last axis of `b`::\n",
            "    \n",
            "        dot(a, b)[i,j,k,m] = sum(a[i,j,:] * b[k,:,m])\n",
            "    \n",
            "    Parameters\n",
            "    ----------\n",
            "    a : array_like\n",
            "        First argument.\n",
            "    b : array_like\n",
            "        Second argument.\n",
            "    out : ndarray, optional\n",
            "        Output argument. This must have the exact kind that would be returned\n",
            "        if it was not used. In particular, it must have the right type, must be\n",
            "        C-contiguous, and its dtype must be the dtype that would be returned\n",
            "        for `dot(a,b)`. This is a performance feature. Therefore, if these\n",
            "        conditions are not met, an exception is raised, instead of attempting\n",
            "        to be flexible.\n",
            "    \n",
            "    Returns\n",
            "    -------\n",
            "    output : ndarray\n",
            "        Returns the dot product of `a` and `b`.  If `a` and `b` are both\n",
            "        scalars or both 1-D arrays then a scalar is returned; otherwise\n",
            "        an array is returned.\n",
            "        If `out` is given, then it is returned.\n",
            "    \n",
            "    Raises\n",
            "    ------\n",
            "    ValueError\n",
            "        If the last dimension of `a` is not the same size as\n",
            "        the second-to-last dimension of `b`.\n",
            "    \n",
            "    See Also\n",
            "    --------\n",
            "    vdot : Complex-conjugating dot product.\n",
            "    tensordot : Sum products over arbitrary axes.\n",
            "    einsum : Einstein summation convention.\n",
            "    matmul : '@' operator as method with out parameter.\n",
            "    \n",
            "    Examples\n",
            "    --------\n",
            "    >>> np.dot(3, 4)\n",
            "    12\n",
            "    \n",
            "    Neither argument is complex-conjugated:\n",
            "    \n",
            "    >>> np.dot([2j, 3j], [2j, 3j])\n",
            "    (-13+0j)\n",
            "    \n",
            "    For 2-D arrays it is the matrix product:\n",
            "    \n",
            "    >>> a = [[1, 0], [0, 1]]\n",
            "    >>> b = [[4, 1], [2, 2]]\n",
            "    >>> np.dot(a, b)\n",
            "    array([[4, 1],\n",
            "           [2, 2]])\n",
            "    \n",
            "    >>> a = np.arange(3*4*5*6).reshape((3,4,5,6))\n",
            "    >>> b = np.arange(3*4*5*6)[::-1].reshape((5,4,6,3))\n",
            "    >>> np.dot(a, b)[2,3,2,1,2,2]\n",
            "    499128\n",
            "    >>> sum(a[2,3,2,:] * b[1,2,:,2])\n",
            "    499128\n",
            "\n"
          ],
          "name": "stdout"
        }
      ]
    },
    {
      "cell_type": "markdown",
      "metadata": {
        "colab_type": "text",
        "id": "U9zeMAbV-xKJ"
      },
      "source": [
        "We can also compute typical numerical operations, which will be applied element-wise:"
      ]
    },
    {
      "cell_type": "code",
      "metadata": {
        "colab_type": "code",
        "id": "RJmEVIK5pkSM",
        "outputId": "81e80383-755c-49b2-f28f-c4d3fdc72841",
        "colab": {
          "base_uri": "https://localhost:8080/",
          "height": 221
        }
      },
      "source": [
        "# Examples of element-wise numerical operations:\n",
        "x1 = np.arange(9).reshape((3, 3)) + 1\n",
        "print('x1:\\n', x1)\n",
        "print('\\nExponentiation of x1:\\n', np.exp(x1))\n",
        "print('\\nLogarithm of x1:\\n', np.log(x1))\n",
        "print('\\nSquare root of x1:\\n', np.sqrt(x1))"
      ],
      "execution_count": 0,
      "outputs": [
        {
          "output_type": "stream",
          "text": [
            "('x1:\\n', array([[1, 2, 3],\n",
            "       [4, 5, 6],\n",
            "       [7, 8, 9]]))\n",
            "('\\nExponentiation of x1:\\n', array([[2.71828183e+00, 7.38905610e+00, 2.00855369e+01],\n",
            "       [5.45981500e+01, 1.48413159e+02, 4.03428793e+02],\n",
            "       [1.09663316e+03, 2.98095799e+03, 8.10308393e+03]]))\n",
            "('\\nLogarithm of x1:\\n', array([[0.        , 0.69314718, 1.09861229],\n",
            "       [1.38629436, 1.60943791, 1.79175947],\n",
            "       [1.94591015, 2.07944154, 2.19722458]]))\n",
            "('\\nSquare root of x1:\\n', array([[1.        , 1.41421356, 1.73205081],\n",
            "       [2.        , 2.23606798, 2.44948974],\n",
            "       [2.64575131, 2.82842712, 3.        ]]))\n"
          ],
          "name": "stdout"
        }
      ]
    },
    {
      "cell_type": "markdown",
      "metadata": {
        "colab_type": "text",
        "id": "cNwbrx_T_lBv"
      },
      "source": [
        "Element-wise division between matrices is performed using the ''`/`'' operator or the  `divide()` built-in function:"
      ]
    },
    {
      "cell_type": "code",
      "metadata": {
        "colab_type": "code",
        "id": "rPZm4ADc_tfa",
        "outputId": "6e293930-0a97-4bc1-c31f-f908819d4eb6",
        "colab": {
          "base_uri": "https://localhost:8080/",
          "height": 153
        }
      },
      "source": [
        "# Element-wise division of two matrices:\n",
        "x1 = np.arange(9).reshape((3, 3)) * 3\n",
        "x2 = np.ones((3, 3)) * 3\n",
        "result = np.divide(x1, x2)\n",
        "print('x1:\\n', x1, '\\n\\nx2:\\n', x2)\n",
        "print('\\nElement-wise division of x1 and x2:\\n', result)"
      ],
      "execution_count": 0,
      "outputs": [
        {
          "output_type": "stream",
          "text": [
            "('x1:\\n', array([[ 0,  3,  6],\n",
            "       [ 9, 12, 15],\n",
            "       [18, 21, 24]]), '\\n\\nx2:\\n', array([[3., 3., 3.],\n",
            "       [3., 3., 3.],\n",
            "       [3., 3., 3.]]))\n",
            "('\\nElement-wise division of x1 and x2:\\n', array([[0., 1., 2.],\n",
            "       [3., 4., 5.],\n",
            "       [6., 7., 8.]]))\n"
          ],
          "name": "stdout"
        }
      ]
    },
    {
      "cell_type": "markdown",
      "metadata": {
        "colab_type": "text",
        "id": "JeGYxgmjAqNV"
      },
      "source": [
        "We can use the \"`**`\" operator or the `power()` built-in function to raise elements from a matrix to a given power, or to raise elements of one matrix to positionally-corresponding powers in another matrix:"
      ]
    },
    {
      "cell_type": "code",
      "metadata": {
        "colab_type": "code",
        "id": "yPxUlY0DBG_Z",
        "outputId": "4b9ee9a6-27a0-4c62-c15e-129e61946383",
        "colab": {
          "base_uri": "https://localhost:8080/",
          "height": 272
        }
      },
      "source": [
        "# Performing power operations with the ** operator:\n",
        "x1 = np.arange(9).reshape((3, 3))\n",
        "result = x1**2\n",
        "print('x1:\\n', x1)\n",
        "print('\\nRaising all elements in x1 to the power of 2 using the ** operator:\\n', result)\n",
        "\n",
        "result = x1**x1\n",
        "print('\\nRaising all elements in x1 to themselves using the ** operator:\\n', result)\n",
        "\n",
        "# Performing power operations with the power() function:\n",
        "result = np.power(x1, 2)\n",
        "print('\\nRaising all elements in x1 to the power of 2 using the power() function:\\n', result)\n",
        "\n",
        "result = np.power(x1, x1)\n",
        "print('\\nRaising all elements in x1 to themselves using the power() function:\\n', result)"
      ],
      "execution_count": 0,
      "outputs": [
        {
          "output_type": "stream",
          "text": [
            "('x1:\\n', array([[0, 1, 2],\n",
            "       [3, 4, 5],\n",
            "       [6, 7, 8]]))\n",
            "('\\nRaising all elements in x1 to the power of 2 using the ** operator:\\n', array([[ 0,  1,  4],\n",
            "       [ 9, 16, 25],\n",
            "       [36, 49, 64]]))\n",
            "('\\nRaising all elements in x1 to themselves using the ** operator:\\n', array([[       1,        1,        4],\n",
            "       [      27,      256,     3125],\n",
            "       [   46656,   823543, 16777216]]))\n",
            "('\\nRaising all elements in x1 to the power of 2 using the power() function:\\n', array([[ 0,  1,  4],\n",
            "       [ 9, 16, 25],\n",
            "       [36, 49, 64]]))\n",
            "('\\nRaising all elements in x1 to themselves using the power() function:\\n', array([[       1,        1,        4],\n",
            "       [      27,      256,     3125],\n",
            "       [   46656,   823543, 16777216]]))\n"
          ],
          "name": "stdout"
        }
      ]
    },
    {
      "cell_type": "markdown",
      "metadata": {
        "colab_type": "text",
        "id": "sH82AQaVC5Zy"
      },
      "source": [
        "Finally, we can transpose a matrix by using the `numpy.transpose()` function, the `ndarray.transpose()` method or its abbreviated version, `ndarray.T`. We usually use the abbreviated version, but the other forms have their place in certain contexts. Check their documentations to see what options they offer:"
      ]
    },
    {
      "cell_type": "code",
      "metadata": {
        "colab_type": "code",
        "id": "_68OA2zTDb3t",
        "outputId": "0de5269e-8a45-4467-9f85-1baa8f8889ae",
        "colab": {
          "base_uri": "https://localhost:8080/",
          "height": 255
        }
      },
      "source": [
        "# Three different ways of transposing a matrix:\n",
        "x1 = np.arange(9).reshape((3, 3))\n",
        "print('x1:\\n', x1)\n",
        "print('\\nTranspose of x1 using the numpy function:\\n', np.transpose(x1))\n",
        "print('\\nTranspose of x1 using the ndarray method:\\n', x1.transpose())\n",
        "print('\\nTranspose of x1 using the abbreviated form:\\n', x1.T)\n",
        "print('\\nOddly enough, the three methods produce the same result!')"
      ],
      "execution_count": 0,
      "outputs": [
        {
          "output_type": "stream",
          "text": [
            "('x1:\\n', array([[0, 1, 2],\n",
            "       [3, 4, 5],\n",
            "       [6, 7, 8]]))\n",
            "('\\nTranspose of x1 using the numpy function:\\n', array([[0, 3, 6],\n",
            "       [1, 4, 7],\n",
            "       [2, 5, 8]]))\n",
            "('\\nTranspose of x1 using the ndarray method:\\n', array([[0, 3, 6],\n",
            "       [1, 4, 7],\n",
            "       [2, 5, 8]]))\n",
            "('\\nTranspose of x1 using the abbreviated form:\\n', array([[0, 3, 6],\n",
            "       [1, 4, 7],\n",
            "       [2, 5, 8]]))\n",
            "\n",
            "Oddly enough, the three methods produce the same result!\n"
          ],
          "name": "stdout"
        }
      ]
    },
    {
      "cell_type": "markdown",
      "metadata": {
        "colab_type": "text",
        "id": "hNTqfzKIyLpR"
      },
      "source": [
        "In the next cell you'll find a few exercises for you to practice these operations."
      ]
    },
    {
      "cell_type": "code",
      "metadata": {
        "colab_type": "code",
        "id": "92KZQrP55Jmn",
        "outputId": "aed49252-1298-4d8f-959b-fa02febf481b",
        "colab": {
          "base_uri": "https://localhost:8080/",
          "height": 357
        }
      },
      "source": [
        "# Complete the following exercises. Print the partial results to visualize them.\n",
        "\n",
        "# Create a 3x4 array called `y`. It's up to you to decide what it contains.\n",
        "y = np.ones((3,4))\n",
        "print(y)\n",
        "\n",
        "# Create a column vector of length 3 called `x_col`. \n",
        "x_col = np.arange(3).reshape((3,1)) +1\n",
        "print('\\n', x_col)\n",
        "\n",
        "# Multiply the 2-D array `y` by 2\n",
        "y_by2 = y*2\n",
        "print('\\n', y_by2)\n",
        "\n",
        "# Multiply each of the columns in `y` by the column vector `x_col`\n",
        "z = np.multiply(y,x_col)\n",
        "print('\\n', z)\n",
        "\n",
        "# Obtain the matrix product of the transpose of x_col and y\n",
        "x_by_y = np.matmul(x_col.T, y)\n",
        "print('\\n', x_by_y)\n",
        "\n",
        "# Compute the sine of a vector that spans from -5 to 5 in increments of 0.5\n",
        "x = np.linspace(-5,5,21)\n",
        "x_sin = np.sin(x)\n",
        "print('\\n', x)\n",
        "print('\\n', x_sin)"
      ],
      "execution_count": 0,
      "outputs": [
        {
          "output_type": "stream",
          "text": [
            "[[1. 1. 1. 1.]\n",
            " [1. 1. 1. 1.]\n",
            " [1. 1. 1. 1.]]\n",
            "('\\n', array([[1],\n",
            "       [2],\n",
            "       [3]]))\n",
            "('\\n', array([[2., 2., 2., 2.],\n",
            "       [2., 2., 2., 2.],\n",
            "       [2., 2., 2., 2.]]))\n",
            "('\\n', array([[1., 1., 1., 1.],\n",
            "       [2., 2., 2., 2.],\n",
            "       [3., 3., 3., 3.]]))\n",
            "('\\n', array([[6., 6., 6., 6.]]))\n",
            "('\\n', array([-5. , -4.5, -4. , -3.5, -3. , -2.5, -2. , -1.5, -1. , -0.5,  0. ,\n",
            "        0.5,  1. ,  1.5,  2. ,  2.5,  3. ,  3.5,  4. ,  4.5,  5. ]))\n",
            "('\\n', array([ 0.95892427,  0.97753012,  0.7568025 ,  0.35078323, -0.14112001,\n",
            "       -0.59847214, -0.90929743, -0.99749499, -0.84147098, -0.47942554,\n",
            "        0.        ,  0.47942554,  0.84147098,  0.99749499,  0.90929743,\n",
            "        0.59847214,  0.14112001, -0.35078323, -0.7568025 , -0.97753012,\n",
            "       -0.95892427]))\n"
          ],
          "name": "stdout"
        }
      ]
    },
    {
      "cell_type": "markdown",
      "metadata": {
        "colab_type": "text",
        "id": "4m4wN5a_5sul"
      },
      "source": [
        "\n",
        "## 2.2. N-D numpy arrays\n",
        "\n",
        "To correctly operate with numpy arrays we have to be aware of their dimensions. Are these two arrays  equal?"
      ]
    },
    {
      "cell_type": "code",
      "metadata": {
        "colab_type": "code",
        "id": "7mISW1N0T3hD",
        "outputId": "688f02f1-abb8-4ab4-b223-aa33382936fc",
        "colab": {
          "base_uri": "https://localhost:8080/",
          "height": 85
        }
      },
      "source": [
        "array1 = np.array([1,1,1])\n",
        "print('array1:\\n', array1)\n",
        "\n",
        "array2 = np.ones((3,1))\n",
        "print('\\narray2:\\n', array2)"
      ],
      "execution_count": 0,
      "outputs": [
        {
          "output_type": "stream",
          "text": [
            "('array1:\\n', array([1, 1, 1]))\n",
            "('\\narray2:\\n', array([[1.],\n",
            "       [1.],\n",
            "       [1.]]))\n"
          ],
          "name": "stdout"
        }
      ]
    },
    {
      "cell_type": "markdown",
      "metadata": {
        "colab_type": "text",
        "id": "9cLN45kwXCdy"
      },
      "source": [
        "The answer is **no**. We can easily check this by examining their shapes and dimensions:"
      ]
    },
    {
      "cell_type": "code",
      "metadata": {
        "colab_type": "code",
        "id": "kKW_PVMLW9ND",
        "outputId": "45326c37-ac9f-4f9a-a6a8-8c4f62bde45c",
        "colab": {
          "base_uri": "https://localhost:8080/",
          "height": 85
        }
      },
      "source": [
        "print('Shape of array1 :',array1.shape)\n",
        "print('Number of dimensions of array1 :',array1.ndim)\n",
        "print('Shape of array2 :',array2.shape)\n",
        "print('Number of dimensions of array2 :',array2.ndim)"
      ],
      "execution_count": 0,
      "outputs": [
        {
          "output_type": "stream",
          "text": [
            "('Shape of array1 :', (3,))\n",
            "('Number of dimensions of array1 :', 1)\n",
            "('Shape of array2 :', (3, 1))\n",
            "('Number of dimensions of array2 :', 2)\n"
          ],
          "name": "stdout"
        }
      ]
    },
    {
      "cell_type": "markdown",
      "metadata": {
        "colab_type": "text",
        "id": "HxJ5UXBHXUra"
      },
      "source": [
        "Effectively, `array1` is a 1D array, whereas `array2` is a 2D  array.  There are some methods that will let you modify the dimensions of an array. To go from a 2-D to 1-D array we have the methods `flatten()`, `ravel()` and `reshape()`. Check the result of the following code (you can use the help function to check the funcionalities of each method)."
      ]
    },
    {
      "cell_type": "code",
      "metadata": {
        "colab_type": "code",
        "id": "RjzX2fOZZ2NB",
        "outputId": "96798e32-e434-4cc3-e1b3-7fd314c0d2e1",
        "colab": {
          "base_uri": "https://localhost:8080/",
          "height": 459
        }
      },
      "source": [
        "x1 = np.arange(9).reshape((3, 3))\n",
        "print('x1:\\n', x1)\n",
        "print('Its shape is: ', x1.shape)\n",
        "\n",
        "print('\\n Use the method flaten:')\n",
        "print('x1.flatten(): ', x1.flatten())\n",
        "print('Its shape is: ', x1.flatten().shape)\n",
        "\n",
        "print('\\n Use the method ravel:')\n",
        "print('x1.ravel(): ', x1.ravel())\n",
        "print('Its shape is:', x1.ravel().shape)\n",
        "\n",
        "print('\\n Use the method shape:')\n",
        "print('x1.reshape(-1): ', x1.reshape(-1))\n",
        "print('Its shape is: ', x1.reshape(-1).shape)\n",
        "\n",
        "\n",
        "# Note that here the method shape is used to reorganize the array into a 1-D \n",
        "# array. A more common use of reshape() is to simply redimension an array from \n",
        "# shape (i, j) to shape (i', j') satisfying the condition i*j = i'*j'.\n",
        "# For example:\n",
        "print('\\n A more common use of reshape():')\n",
        "x1 = np.arange(12).reshape((4, 3))\n",
        "print('x1:\\n', x1)\n",
        "print('Its shape is: ', x1.shape)\n",
        "\n",
        "print('\\nx1.reshape((2,6)):\\n', x1.reshape((2,6)))\n",
        "print('Its shape is: ', x1.reshape((2,6)).shape)"
      ],
      "execution_count": 0,
      "outputs": [
        {
          "output_type": "stream",
          "text": [
            "('x1:\\n', array([[0, 1, 2],\n",
            "       [3, 4, 5],\n",
            "       [6, 7, 8]]))\n",
            "('Its shape is: ', (3, 3))\n",
            "\n",
            " Use the method flaten:\n",
            "('x1.flatten(): ', array([0, 1, 2, 3, 4, 5, 6, 7, 8]))\n",
            "('Its shape is: ', (9,))\n",
            "\n",
            " Use the method ravel:\n",
            "('x1.ravel(): ', array([0, 1, 2, 3, 4, 5, 6, 7, 8]))\n",
            "('Its shape is:', (9,))\n",
            "\n",
            " Use the method shape:\n",
            "('x1.reshape(-1): ', array([0, 1, 2, 3, 4, 5, 6, 7, 8]))\n",
            "('Its shape is: ', (9,))\n",
            "\n",
            " A more common use of reshape():\n",
            "('x1:\\n', array([[ 0,  1,  2],\n",
            "       [ 3,  4,  5],\n",
            "       [ 6,  7,  8],\n",
            "       [ 9, 10, 11]]))\n",
            "('Its shape is: ', (4, 3))\n",
            "('\\nx1.reshape((2,6)):\\n', array([[ 0,  1,  2,  3,  4,  5],\n",
            "       [ 6,  7,  8,  9, 10, 11]]))\n",
            "('Its shape is: ', (2, 6))\n"
          ],
          "name": "stdout"
        }
      ]
    },
    {
      "cell_type": "markdown",
      "metadata": {
        "colab_type": "text",
        "id": "OON5LiQR1Dqo"
      },
      "source": [
        "Note: `flatten()` always returns a copy of the original vector, whereas `ravel()` and `shape()` returns a view of the original array whenever possible. "
      ]
    },
    {
      "cell_type": "markdown",
      "metadata": {
        "colab_type": "text",
        "id": "7oNRBH933Gb2"
      },
      "source": [
        "Sometimes we need to add a new dimension to an array, for example to turn a  1-D array into a 2-D column vector. For this we use `np.newaxis`."
      ]
    },
    {
      "cell_type": "code",
      "metadata": {
        "colab_type": "code",
        "id": "symecWXg3GKW",
        "outputId": "20a3612c-f1d8-404b-a0d1-86136c45d982",
        "colab": {
          "base_uri": "https://localhost:8080/",
          "height": 153
        }
      },
      "source": [
        "# Let's start with a 1-D array:\n",
        "array1 = np.array([1,1,1])\n",
        "print('1D array:\\n',array1)\n",
        "print('Its shape is: ', array1.shape)\n",
        "\n",
        "# Let's turn it into a column vector (2-D array with dimension 1x3):\n",
        "array2 = array1[:,np.newaxis]\n",
        "print('\\n2D array:\\n',array2)\n",
        "print('Its shape is: ', array2.shape)\n",
        "\n",
        "# Let's turn it into a row vector (2-D array with dimension 3x1):\n",
        "array3 = array1[np.newaxis,:]\n",
        "print('\\n2D array:\\n',array3)\n",
        "print('Its shape is: ', array3.shape)"
      ],
      "execution_count": 0,
      "outputs": [
        {
          "output_type": "stream",
          "text": [
            "('1D array:\\n', array([1, 1, 1]))\n",
            "('Its shape is: ', (3,))\n",
            "('\\n2D array:\\n', array([[1],\n",
            "       [1],\n",
            "       [1]]))\n",
            "('Its shape is: ', (3, 1))\n",
            "('\\n2D array:\\n', array([[1, 1, 1]]))\n",
            "('Its shape is: ', (1, 3))\n"
          ],
          "name": "stdout"
        }
      ]
    },
    {
      "cell_type": "markdown",
      "metadata": {
        "colab_type": "text",
        "id": "XHEwx6g_x4ax"
      },
      "source": [
        "We might also need to remove empty or unused dimensions. For this we have `np.squeeze()`:"
      ]
    },
    {
      "cell_type": "code",
      "metadata": {
        "colab_type": "code",
        "id": "0YKyOUgZx3xp",
        "outputId": "faf0552d-8027-4304-9d11-ea4937b00607",
        "colab": {
          "base_uri": "https://localhost:8080/",
          "height": 119
        }
      },
      "source": [
        "array1_1D = np.squeeze(array1)\n",
        "print('1D array:\\n',array1_1D)\n",
        "print('Its shape is: ', array1_1D.shape)\n",
        "\n",
        "array2_1D = np.squeeze(array2)\n",
        "print('\\n1D array:\\n',array2_1D)\n",
        "print('Its shape is: ', array2_1D.shape)\n",
        "\n",
        "array3_1D = np.squeeze(array3)\n",
        "print('\\n1D array:\\n',array3_1D)\n",
        "print('Its shape is: ', array3_1D.shape)"
      ],
      "execution_count": 0,
      "outputs": [
        {
          "output_type": "stream",
          "text": [
            "('1D array:\\n', array([1, 1, 1]))\n",
            "('Its shape is: ', (3,))\n",
            "('\\n1D array:\\n', array([1, 1, 1]))\n",
            "('Its shape is: ', (3,))\n",
            "('\\n1D array:\\n', array([1, 1, 1]))\n",
            "('Its shape is: ', (3,))\n"
          ],
          "name": "stdout"
        }
      ]
    },
    {
      "cell_type": "markdown",
      "metadata": {
        "colab_type": "text",
        "id": "dH2XmqDfAlVA"
      },
      "source": [
        "Complete the following excersise:"
      ]
    },
    {
      "cell_type": "code",
      "metadata": {
        "colab_type": "code",
        "id": "zvjxpu8WAr2a",
        "outputId": "37824f44-5ae9-4fd5-adab-beee9563d346",
        "colab": {
          "base_uri": "https://localhost:8080/",
          "height": 34
        }
      },
      "source": [
        "# Given the following matrix and vector:\n",
        "vect = np.arange(3)[:, np.newaxis]\n",
        "mat = np.arange(9).reshape((3, 3))\n",
        "\n",
        "# Apply the necessary transformation to vect so that you can perform the matrix\n",
        "# multiplication np.matmul(vect, mat)\n",
        "\n",
        "vect = vect.ravel()\n",
        "\n",
        "print(np.matmul(vect, mat))"
      ],
      "execution_count": 0,
      "outputs": [
        {
          "output_type": "stream",
          "text": [
            "[15 18 21]\n"
          ],
          "name": "stdout"
        }
      ]
    },
    {
      "cell_type": "markdown",
      "metadata": {
        "colab_type": "text",
        "id": "rhnnan9MCRoB"
      },
      "source": [
        "The output should be:\n",
        "\n",
        "```\n",
        "[15 18 21]\n",
        "```"
      ]
    },
    {
      "cell_type": "markdown",
      "metadata": {
        "colab_type": "text",
        "id": "1cNCkKsw9n_Z"
      },
      "source": [
        "## 2.3. Numpy methods that can be carried out along different dimensions\n",
        "\n",
        "Compare the result of the following commands:"
      ]
    },
    {
      "cell_type": "code",
      "metadata": {
        "colab_type": "code",
        "id": "lgT3v3ZF9n_b",
        "outputId": "bfeb5a16-a1db-49db-9f72-392a8b93abeb",
        "colab": {
          "base_uri": "https://localhost:8080/",
          "height": 85
        }
      },
      "source": [
        "x1 = np.arange(24).reshape((8, 3))\n",
        "\n",
        "print(x1.shape)\n",
        "print(np.mean(x1))\n",
        "print(np.mean(x1,axis=0))\n",
        "print(np.mean(x1,axis=1))\n"
      ],
      "execution_count": 0,
      "outputs": [
        {
          "output_type": "stream",
          "text": [
            "(8, 3)\n",
            "11.5\n",
            "[10.5 11.5 12.5]\n",
            "[ 1.  4.  7. 10. 13. 16. 19. 22.]\n"
          ],
          "name": "stdout"
        }
      ]
    },
    {
      "cell_type": "markdown",
      "metadata": {
        "colab_type": "text",
        "id": "kWMzmSAL9n_u"
      },
      "source": [
        "Other numpy methods where you can specify the axis along with a certain operation should be carried out are:\n",
        "\n",
        "  - `np.median()`\n",
        "  - `np.std()`\n",
        "  - `np.var()`\n",
        "  - `np.percentile()`\n",
        "  - `np.sort()`\n",
        "  - `np.argsort()`\n",
        "  \n",
        "If the axis argument is not provided, the array is flattened before carriying out the corresponding operation."
      ]
    },
    {
      "cell_type": "markdown",
      "metadata": {
        "colab_type": "text",
        "id": "hcRr-84rJgHW"
      },
      "source": [
        "Complete the following exercises:"
      ]
    },
    {
      "cell_type": "code",
      "metadata": {
        "colab_type": "code",
        "id": "iicoySCyJjz-",
        "outputId": "1bf26b7d-01d6-4e2c-c865-0531c247aab1",
        "colab": {
          "base_uri": "https://localhost:8080/",
          "height": 238
        }
      },
      "source": [
        "# Given the following list of heights: \n",
        "heights = [1.60, 1.85, 1.68, 1.90, 1.78, 1.58, 1.62, 1.60, 1.70, 1.56]\n",
        "\n",
        "# 1. Obtain a 2x5 array, called `h_array`, using the methods you learnt above.\n",
        "\n",
        "h_array = np.reshape(heights,(2,5))\n",
        "print('h_array: \\n',h_array)\n",
        "print('Its shape is: \\n', h_array.shape)\n",
        "\n",
        "# 2. Use method mean() to get the mean of each column, and the mean of each row.\n",
        "# Store them in two vectors, named `mean_column` and `mean_row` respectively.\n",
        "\n",
        "mean_column = np.mean(h_array, axis=0)\n",
        "mean_row = np.mean(h_array, axis=1)\n",
        "\n",
        "print('\\nMean of each column: \\n',mean_column)\n",
        "print('Its shape is (it must coincide with number of columns):\\n', mean_column.shape)\n",
        "\n",
        "print('\\nMean of each row: \\n',mean_row)\n",
        "print('Its shape is (it must coincide with number of rows):\\n', mean_row.shape)\n",
        "\n",
        "# 3. Obtain a 5x2 array by multiplying the mean vectors. You may need to create a \n",
        "# new axis. The array name should be `new_array`\n",
        "mean_column = mean_column[:,np.newaxis]\n",
        "mean_row = mean_row[np.newaxis,:]\n",
        "new_array = np.matmul(mean_column, mean_row)\n",
        "print('\\nNew array: \\n',new_array)\n",
        "print('New array shape: \\n', new_array.shape)\n"
      ],
      "execution_count": 0,
      "outputs": [
        {
          "output_type": "stream",
          "text": [
            "('h_array: \\n', array([[1.6 , 1.85, 1.68, 1.9 , 1.78],\n",
            "       [1.58, 1.62, 1.6 , 1.7 , 1.56]]))\n",
            "('Its shape is: \\n', (2, 5))\n",
            "('\\nMean of each column: \\n', array([1.59 , 1.735, 1.64 , 1.8  , 1.67 ]))\n",
            "('Its shape is (it must coincide with number of columns):\\n', (5,))\n",
            "('\\nMean of each row: \\n', array([1.762, 1.612]))\n",
            "('Its shape is (it must coincide with number of rows):\\n', (2,))\n",
            "('\\nNew array: \\n', array([[2.80158, 2.56308],\n",
            "       [3.05707, 2.79682],\n",
            "       [2.88968, 2.64368],\n",
            "       [3.1716 , 2.9016 ],\n",
            "       [2.94254, 2.69204]]))\n",
            "('New array shape: \\n', (5, 2))\n"
          ],
          "name": "stdout"
        }
      ]
    },
    {
      "cell_type": "markdown",
      "metadata": {
        "colab_type": "text",
        "id": "_CWOltVg-9Uh"
      },
      "source": [
        "The output should be:\n",
        "```\n",
        "h_array: \n",
        " [[1.6  1.85 1.68 1.9  1.78]\n",
        " [1.58 1.62 1.6  1.7  1.56]]\n",
        "Its shape is: \n",
        " (2, 5)\n",
        "\n",
        "Mean of each column: \n",
        " [1.59  1.735 1.64  1.8   1.67 ]\n",
        "Its shape is (it must coincide with number of columns):\n",
        " (5,)\n",
        "\n",
        "Mean of each row: \n",
        " [1.762 1.612]\n",
        "Its shape is (it must coincide with number of rows):\n",
        " (2,)\n",
        "\n",
        "New array: \n",
        " [[2.80158 2.56308]\n",
        " [3.05707 2.79682]\n",
        " [2.88968 2.64368]\n",
        " [3.1716  2.9016 ]\n",
        " [2.94254 2.69204]]\n",
        "New array shape: \n",
        " (5, 2)```\n"
      ]
    },
    {
      "cell_type": "markdown",
      "metadata": {
        "colab_type": "text",
        "id": "l723Disq9n_w"
      },
      "source": [
        "## 2.4. Concatenating arrays\n",
        "\n",
        "Provided that the corresponding dimensions fit, horizontal and vertical stacking of matrices can be carried out with methods `np.hstack()` and `np.vstack()`.\n",
        "\n",
        "Complete the following exercises to practice matrix concatenation:"
      ]
    },
    {
      "cell_type": "code",
      "metadata": {
        "colab_type": "code",
        "id": "viZ66PpI9n_x",
        "outputId": "9ed43fca-b853-4481-c345-62e4746b3d94",
        "colab": {
          "base_uri": "https://localhost:8080/",
          "height": 374
        }
      },
      "source": [
        "my_array = np.array([[1, -1, 3, 3],[2, 2, 4, 6]])\n",
        "print('Array 1:')\n",
        "print(my_array)\n",
        "print(my_array.shape)\n",
        "\n",
        "my_array2 = np.ones((2,3))\n",
        "print('Array 2:')\n",
        "print(my_array2)\n",
        "print(my_array2.shape)\n",
        "\n",
        "\n",
        "# Vertically stack matrix my_array with itself\n",
        "ex1_res = np.vstack((my_array, my_array))\n",
        "print('Vertically stack:')\n",
        "print(ex1_res)\n",
        "\n",
        "# Horizontally stack matrix my_array and my_array2\n",
        "ex2_res = np.hstack((my_array, my_array2))\n",
        "print('Horizontally stack:')\n",
        "print(ex2_res)\n",
        "\n",
        "# Transpose the vector `my_array`, and then stack a ones vector\n",
        "# as the first column. Alternatively, you can stack a row, and then transpose. \n",
        "# Just make sure that the final shape is (4,3). Name it `expanded`:\n",
        "\n",
        "ones_v = np.ones((4,1))\n",
        "my_array_t = my_array.T\n",
        "expanded = np.hstack((ones_v, my_array_t))\n",
        "\n",
        "print('Expanded array: \\n',expanded)\n",
        "print('Its shape is: \\n', expanded.shape)"
      ],
      "execution_count": 0,
      "outputs": [
        {
          "output_type": "stream",
          "text": [
            "Array 1:\n",
            "[[ 1 -1  3  3]\n",
            " [ 2  2  4  6]]\n",
            "(2, 4)\n",
            "Array 2:\n",
            "[[1. 1. 1.]\n",
            " [1. 1. 1.]]\n",
            "(2, 3)\n",
            "Vertically stack:\n",
            "[[ 1 -1  3  3]\n",
            " [ 2  2  4  6]\n",
            " [ 1 -1  3  3]\n",
            " [ 2  2  4  6]]\n",
            "Horizontally stack:\n",
            "[[ 1. -1.  3.  3.  1.  1.  1.]\n",
            " [ 2.  2.  4.  6.  1.  1.  1.]]\n",
            "('Expanded array: \\n', array([[ 1.,  1.,  2.],\n",
            "       [ 1., -1.,  2.],\n",
            "       [ 1.,  3.,  4.],\n",
            "       [ 1.,  3.,  6.]]))\n",
            "('Its shape is: \\n', (4, 3))\n"
          ],
          "name": "stdout"
        }
      ]
    },
    {
      "cell_type": "markdown",
      "metadata": {
        "colab_type": "text",
        "id": "Tj7ukf7xAnEG"
      },
      "source": [
        "The output should be:\n",
        "\n",
        "```\n",
        "Array 1:\n",
        "[[ 1 -1  3  3]\n",
        " [ 2  2  4  6]]\n",
        "(2, 4)\n",
        "Array 2:\n",
        "[[1. 1. 1.]\n",
        " [1. 1. 1.]]\n",
        "(2, 3)\n",
        "Vertically stack:\n",
        "[[ 1 -1  3  3]\n",
        " [ 2  2  4  6]\n",
        " [ 1 -1  3  3]\n",
        " [ 2  2  4  6]]\n",
        "Horizontally stack:\n",
        "[[ 1. -1.  3.  3.  1.  1.  1.]\n",
        " [ 2.  2.  4.  6.  1.  1.  1.]]\n",
        "Expanded array: \n",
        " [[ 1.  1.  2.]\n",
        " [ 1. -1.  2.]\n",
        " [ 1.  3.  4.]\n",
        " [ 1.  3.  6.]]\n",
        "Its shape is: \n",
        " (4, 3)\n",
        " ```"
      ]
    },
    {
      "cell_type": "markdown",
      "metadata": {
        "colab_type": "text",
        "id": "uRrSF9IO9oAI"
      },
      "source": [
        "## 2.5. Slicing\n",
        "\n",
        "In numpy, slicing means selecting and/or accessing specific array rows and columns.\n",
        "\n",
        "Particular elements of numpy arrays (both unidimensional and multidimensional) can be accessed using standard python slicing. When working with multidimensional arrays, slicing can be carried out along several different dimensions at once.\n",
        "\n",
        "Let's look at some examples:"
      ]
    },
    {
      "cell_type": "code",
      "metadata": {
        "colab_type": "code",
        "id": "cYnLlBNDDMCz",
        "outputId": "5370cef7-e3c5-416b-c91c-9e186602bd07",
        "colab": {
          "base_uri": "https://localhost:8080/",
          "height": 136
        }
      },
      "source": [
        "# Selecting specific elements from a vector:\n",
        "vect = np.arange(10)+4\n",
        "new_vect = vect[[1, 3, 7]] # remember that in python arrays start at 0\n",
        "print('vect:\\n', vect)\n",
        "print('\\nSelecting specific elements:\\n', new_vect)\n",
        "\n",
        "# Selecting a range of elements from a vector:\n",
        "new_vect = vect[3:7] #new_vect contiene los elementos del 3 al 6, vect[7] no está incluido \n",
        "print('\\nSelecting a range of elements:\\n', new_vect)\n",
        "\n",
        "# Selecting a subarray from an array:\n",
        "array = np.arange(12).reshape((3, 4))\n",
        "new_array = array[2, 2:4]\n",
        "print('\\nArray:\\n', array)\n",
        "print('\\nSelecting a subarray:\\n', new_array)"
      ],
      "execution_count": 0,
      "outputs": [
        {
          "output_type": "stream",
          "text": [
            "('vect:\\n', array([ 4,  5,  6,  7,  8,  9, 10, 11, 12, 13]))\n",
            "('\\nSelecting specific elements:\\n', array([ 5,  7, 11]))\n",
            "('\\nSelecting a range of elements:\\n', array([ 7,  8,  9, 10]))\n",
            "('\\nArray:\\n', array([[ 0,  1,  2,  3],\n",
            "       [ 4,  5,  6,  7],\n",
            "       [ 8,  9, 10, 11]]))\n",
            "('\\nSelecting a subarray:\\n', array([10, 11]))\n"
          ],
          "name": "stdout"
        }
      ]
    },
    {
      "cell_type": "markdown",
      "metadata": {
        "colab_type": "text",
        "id": "utGtSlFsFfUi"
      },
      "source": [
        "Complete the following excersises:"
      ]
    },
    {
      "cell_type": "code",
      "metadata": {
        "colab_type": "code",
        "id": "-uIzgvfz9oAK",
        "outputId": "56c1c5d0-9d07-4762-e93e-4cfe4e840852",
        "colab": {
          "base_uri": "https://localhost:8080/",
          "height": 357
        }
      },
      "source": [
        "\n",
        "X = np.arange(0,25).reshape((5,5))\n",
        "print('X:\\n',X)\n",
        "\n",
        "# 1. Keep last row of matrix X\n",
        "X_sub1 = X[4,:]\n",
        "print('\\nX_sub1: \\n',X_sub1)\n",
        "\n",
        "\n",
        "# 2. Keep first column of the three first rows of X\n",
        "X_sub2 = X[0:3, 0]\n",
        "print('\\nX_sub2: \\n',X_sub2)\n",
        "\n",
        "\n",
        "# 3. Keep first two columns of the three first rows of X\n",
        "X_sub3 = X[0:3, 0:2]\n",
        "print('\\nX_sub3: \\n',X_sub3)\n",
        "\n",
        "# 4. Invert the order of the rows of X\n",
        "X_sub4 = X[[4,3,2,1,0], :]\n",
        "print('\\nX_sub4: \\n',X_sub4)\n",
        "\n",
        "# 5. Keep odd columns (first, third...) of X\n",
        "X_sub5 = X[:, [0,2,4]]\n",
        "print('\\nX_sub5: \\n',X_sub5)"
      ],
      "execution_count": 0,
      "outputs": [
        {
          "output_type": "stream",
          "text": [
            "('X:\\n', array([[ 0,  1,  2,  3,  4],\n",
            "       [ 5,  6,  7,  8,  9],\n",
            "       [10, 11, 12, 13, 14],\n",
            "       [15, 16, 17, 18, 19],\n",
            "       [20, 21, 22, 23, 24]]))\n",
            "('\\nX_sub1: \\n', array([20, 21, 22, 23, 24]))\n",
            "('\\nX_sub2: \\n', array([ 0,  5, 10]))\n",
            "('\\nX_sub3: \\n', array([[ 0,  1],\n",
            "       [ 5,  6],\n",
            "       [10, 11]]))\n",
            "('\\nX_sub4: \\n', array([[20, 21, 22, 23, 24],\n",
            "       [15, 16, 17, 18, 19],\n",
            "       [10, 11, 12, 13, 14],\n",
            "       [ 5,  6,  7,  8,  9],\n",
            "       [ 0,  1,  2,  3,  4]]))\n",
            "('\\nX_sub5: \\n', array([[ 0,  2,  4],\n",
            "       [ 5,  7,  9],\n",
            "       [10, 12, 14],\n",
            "       [15, 17, 19],\n",
            "       [20, 22, 24]]))\n"
          ],
          "name": "stdout"
        }
      ]
    },
    {
      "cell_type": "markdown",
      "metadata": {
        "colab_type": "text",
        "id": "LLE0XnzQF_wA"
      },
      "source": [
        "The output should be:\n",
        "```\n",
        "X:\n",
        " [[ 0  1  2  3  4]\n",
        " [ 5  6  7  8  9]\n",
        " [10 11 12 13 14]\n",
        " [15 16 17 18 19]\n",
        " [20 21 22 23 24]]\n",
        "\n",
        "X_sub1: \n",
        " [20 21 22 23 24]\n",
        "\n",
        "X_sub2: \n",
        " [ 0  5 10]\n",
        "\n",
        "X_sub3: \n",
        " [[ 0  1]\n",
        " [ 5  6]\n",
        " [10 11]]\n",
        "\n",
        "X_sub4: \n",
        " [[20 21 22 23 24]\n",
        " [15 16 17 18 19]\n",
        " [10 11 12 13 14]\n",
        " [ 5  6  7  8  9]\n",
        " [ 0  1  2  3  4]]\n",
        "\n",
        "X_sub5: \n",
        " [[ 0  2  4]\n",
        " [ 5  7  9]\n",
        " [10 12 14]\n",
        " [15 17 19]\n",
        " [20 22 24]]\n",
        " ```"
      ]
    },
    {
      "cell_type": "markdown",
      "metadata": {
        "colab_type": "text",
        "id": "clPZcwtG8IeM"
      },
      "source": [
        "We have seen how slicing allows us to index over the different dimensions of a given array. In the previous examples we learned how to select the rows and columns we're interested in, but how can we select only the elements of an array that meet a specific condition?\n",
        "\n",
        "Numpy provides us with the method `np.where(condition)`. A common way of using this function is by setting a condition involving an array. For example, the condition x > 5 will give us the indexes in which x contains numbers higher than 5. "
      ]
    },
    {
      "cell_type": "code",
      "metadata": {
        "colab_type": "code",
        "id": "09Yzwpn3Ni0I",
        "outputId": "afeffec5-a93d-4225-d724-d544c95f54c8",
        "colab": {
          "base_uri": "https://localhost:8080/",
          "height": 51
        }
      },
      "source": [
        "x = np.array([-3,-2,-1,0,1,2,3])\n",
        "\n",
        "# Create a new vector `y` with the elements of x, but replacing by 0 each number whose\n",
        "# absolute value is 2 or less.\n",
        "\n",
        "y = np.copy(x) # CAUTION! Doing y = x will create two pointers to the same array.\n",
        "condition = np.abs(x)<=2 \n",
        "y[np.where(condition)[0]]=0\n",
        "# Note that np.where() returns a tuple. In this case the second element of the \n",
        "# tuple is empty. Read the np.where() docstring for more info.\n",
        "\n",
        "print('Before conditioning: \\n',x)\n",
        "print('\\nAfter conditioning: \\n',y)"
      ],
      "execution_count": 0,
      "outputs": [
        {
          "output_type": "stream",
          "text": [
            "('Before conditioning: \\n', array([-3, -2, -1,  0,  1,  2,  3]))\n",
            "('\\nAfter conditioning: \\n', array([-3,  0,  0,  0,  0,  0,  3]))\n"
          ],
          "name": "stdout"
        }
      ]
    },
    {
      "cell_type": "markdown",
      "metadata": {
        "colab_type": "text",
        "id": "q_NYXr-PIheX"
      },
      "source": [
        "Try solving the following excersise:"
      ]
    },
    {
      "cell_type": "code",
      "metadata": {
        "colab_type": "code",
        "id": "zltnBMFA8kEi",
        "outputId": "e16d353c-f8f5-4a1d-ab7c-748f7a94a4bb",
        "colab": {
          "base_uri": "https://localhost:8080/",
          "height": 215
        }
      },
      "source": [
        "# Given array x, select the subarray formed by the columns of x that add more \n",
        "# than 16.\n",
        "x = np.arange(12).reshape((3, 4))\n",
        "idx = np.where(np.sum(x, axis=0) > 16)[0]\n",
        "x_new = x[:, idx]\n",
        "print(x_new)"
      ],
      "execution_count": 0,
      "outputs": [
        {
          "output_type": "error",
          "ename": "NameError",
          "evalue": "ignored",
          "traceback": [
            "\u001b[0;31m\u001b[0m",
            "\u001b[0;31mNameError\u001b[0mTraceback (most recent call last)",
            "\u001b[0;32m<ipython-input-1-5760fc50be42>\u001b[0m in \u001b[0;36m<module>\u001b[0;34m()\u001b[0m\n\u001b[0;32m----> 1\u001b[0;31m \u001b[0mx\u001b[0m \u001b[0;34m=\u001b[0m \u001b[0mnp\u001b[0m\u001b[0;34m.\u001b[0m\u001b[0marange\u001b[0m\u001b[0;34m(\u001b[0m\u001b[0;36m12\u001b[0m\u001b[0;34m)\u001b[0m\u001b[0;34m.\u001b[0m\u001b[0mreshape\u001b[0m\u001b[0;34m(\u001b[0m\u001b[0;34m(\u001b[0m\u001b[0;36m3\u001b[0m\u001b[0;34m,\u001b[0m \u001b[0;36m4\u001b[0m\u001b[0;34m)\u001b[0m\u001b[0;34m)\u001b[0m\u001b[0;34m\u001b[0m\u001b[0;34m\u001b[0m\u001b[0m\n\u001b[0m\u001b[1;32m      2\u001b[0m \u001b[0midx\u001b[0m \u001b[0;34m=\u001b[0m \u001b[0mnp\u001b[0m\u001b[0;34m.\u001b[0m\u001b[0mwhere\u001b[0m\u001b[0;34m(\u001b[0m\u001b[0mnp\u001b[0m\u001b[0;34m.\u001b[0m\u001b[0msum\u001b[0m\u001b[0;34m(\u001b[0m\u001b[0mx\u001b[0m\u001b[0;34m,\u001b[0m \u001b[0maxis\u001b[0m\u001b[0;34m=\u001b[0m\u001b[0;36m0\u001b[0m\u001b[0;34m)\u001b[0m \u001b[0;34m>\u001b[0m \u001b[0;36m16\u001b[0m\u001b[0;34m)\u001b[0m\u001b[0;34m\u001b[0m\u001b[0;34m\u001b[0m\u001b[0m\n\u001b[1;32m      3\u001b[0m \u001b[0mx_new\u001b[0m \u001b[0;34m=\u001b[0m \u001b[0mx\u001b[0m\u001b[0;34m[\u001b[0m\u001b[0;34m:\u001b[0m\u001b[0;34m,\u001b[0m \u001b[0midx\u001b[0m\u001b[0;34m]\u001b[0m\u001b[0;34m\u001b[0m\u001b[0;34m\u001b[0m\u001b[0m\n\u001b[1;32m      4\u001b[0m \u001b[0;32mprint\u001b[0m\u001b[0;34m(\u001b[0m\u001b[0mx_new\u001b[0m\u001b[0;34m)\u001b[0m\u001b[0;34m\u001b[0m\u001b[0;34m\u001b[0m\u001b[0m\n",
            "\u001b[0;31mNameError\u001b[0m: name 'np' is not defined"
          ]
        }
      ]
    },
    {
      "cell_type": "markdown",
      "metadata": {
        "colab_type": "text",
        "id": "Yk5lRRX2Jpjo"
      },
      "source": [
        "The output should be:\n",
        "```\n",
        "[[ 2  3]\n",
        " [ 6  7]\n",
        " [10 11]]\n",
        " ```"
      ]
    }
  ]
}